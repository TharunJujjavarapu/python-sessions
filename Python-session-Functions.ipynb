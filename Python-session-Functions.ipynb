{
 "cells": [
  {
   "cell_type": "markdown",
   "id": "a6817163",
   "metadata": {},
   "source": [
    "- python basic syntax\n",
    "\n",
    "     - basic codes\n",
    "    \n",
    "     - data types\n",
    "        \n",
    "     - print statements\n",
    "\n",
    "- concept realted to some packages\n",
    "\n",
    "     - how to read the package\n",
    "    \n",
    "     - how to explore the package\n",
    "        \n",
    "- conditional statements"
   ]
  },
  {
   "cell_type": "markdown",
   "id": "20657933",
   "metadata": {},
   "source": [
    "## Functions"
   ]
  },
  {
   "cell_type": "markdown",
   "id": "e88000a0",
   "metadata": {},
   "source": [
    "it is block of code have set of instructions, and we can recall multiple time\n"
   ]
  },
  {
   "cell_type": "code",
   "execution_count": 2,
   "id": "0dff30d9",
   "metadata": {},
   "outputs": [
    {
     "name": "stdout",
     "output_type": "stream",
     "text": [
      "50\n"
     ]
    }
   ],
   "source": [
    "a=20\n",
    "b=30\n",
    "print(a+b)"
   ]
  },
  {
   "cell_type": "markdown",
   "id": "5241652d",
   "metadata": {},
   "source": [
    "**With out arguments**"
   ]
  },
  {
   "cell_type": "code",
   "execution_count": null,
   "id": "8ef9832c",
   "metadata": {},
   "outputs": [],
   "source": [
    "def <function_name>():\n",
    "    # statement-1\n",
    "    # statement-2\n",
    "    #\n",
    "    #"
   ]
  },
  {
   "cell_type": "code",
   "execution_count": 3,
   "id": "f014a2c2",
   "metadata": {},
   "outputs": [],
   "source": [
    "# i want to create a function with name add\n",
    "def add():\n",
    "    a=20\n",
    "    b=30\n",
    "    print(a+b)\n",
    "          \n",
    "# if you run the function it will not return any output\n",
    "# untill unless you call the function"
   ]
  },
  {
   "cell_type": "code",
   "execution_count": 4,
   "id": "6f7189cc",
   "metadata": {},
   "outputs": [
    {
     "name": "stdout",
     "output_type": "stream",
     "text": [
      "50\n"
     ]
    }
   ],
   "source": [
    "add()"
   ]
  },
  {
   "cell_type": "code",
   "execution_count": 5,
   "id": "b73c5117",
   "metadata": {},
   "outputs": [
    {
     "name": "stdout",
     "output_type": "stream",
     "text": [
      "enter base salary:50000\n",
      "enter DA amount:10000\n",
      "The total salary is: 60000\n"
     ]
    }
   ],
   "source": [
    "# i want to do an operation of adding a base salary and DA amount\n",
    "# total salary\n",
    "\n",
    "# write the normal code\n",
    "base_salary=eval(input(\"enter base salary:\"))\n",
    "DA_amount=eval(input(\"enter DA amount:\"))\n",
    "total_salary=base_salary+DA_amount\n",
    "print(\"The total salary is:\",total_salary)"
   ]
  },
  {
   "cell_type": "code",
   "execution_count": 9,
   "id": "b20d153f",
   "metadata": {},
   "outputs": [],
   "source": [
    "def salary():\n",
    "    base_salary=eval(input(\"enter base salary:\"))\n",
    "    DA_amount=eval(input(\"enter DA amount:\"))\n",
    "    total_salary=base_salary+DA_amount\n",
    "    print(\"The total salary is:\",total_salary)\n",
    "    \n",
    "# it will not show any error\n",
    "# it will not give any output also"
   ]
  },
  {
   "cell_type": "code",
   "execution_count": 10,
   "id": "3f45dfdc",
   "metadata": {},
   "outputs": [
    {
     "name": "stdout",
     "output_type": "stream",
     "text": [
      "enter base salary:60000\n",
      "enter DA amount:15000\n",
      "The total salary is: 75000\n"
     ]
    }
   ],
   "source": [
    "salary()"
   ]
  },
  {
   "cell_type": "code",
   "execution_count": 12,
   "id": "1827a760",
   "metadata": {},
   "outputs": [
    {
     "name": "stdout",
     "output_type": "stream",
     "text": [
      "enter number1:10\n",
      "enter number2:20\n",
      "enter number3:30\n",
      "Average is: 20.0\n"
     ]
    }
   ],
   "source": [
    "# Wap ask the user enter 3 numbers and calculate average (with out function)\n",
    "# implement function on this code\n",
    "num1=eval(input(\"enter number1:\"))\n",
    "num2=eval(input(\"enter number2:\"))\n",
    "num3=eval(input(\"enter number3:\"))\n",
    "avg=(num1+num2+num3)/3\n",
    "print(\"Average is:\",avg)"
   ]
  },
  {
   "cell_type": "code",
   "execution_count": 15,
   "id": "edcdb440",
   "metadata": {},
   "outputs": [],
   "source": [
    "def avg():\n",
    "    num1=eval(input(\"enter the number\"))\n",
    "    num2=eval(input(\"enter the number\"))\n",
    "    num3=eval(input(\"enter the number\"))\n",
    "    avg=(num1+num2+num3)/3\n",
    "    print(\"avg of numbers are\",avg)\n",
    "    "
   ]
  },
  {
   "cell_type": "code",
   "execution_count": 16,
   "id": "5b85fd51",
   "metadata": {},
   "outputs": [
    {
     "name": "stdout",
     "output_type": "stream",
     "text": [
      "enter the number10\n",
      "enter the number20\n",
      "enter the number30\n",
      "avg of numbers are 20.0\n"
     ]
    }
   ],
   "source": [
    "avg()"
   ]
  },
  {
   "cell_type": "code",
   "execution_count": null,
   "id": "497dc68f",
   "metadata": {},
   "outputs": [],
   "source": [
    "def avg():\n",
    "    try:\n",
    "        num1=eval(input(\"enter the number\"))\n",
    "        num2=eval(input(\"enter the number\"))\n",
    "        num3=eval(input(\"enter the number\"))\n",
    "        avg=(num1+num2+num3)/3\n",
    "        print(\"avg of numbers are\",avg)\n",
    "        \n",
    "    except Exception as e:\n",
    "        print(e)\n"
   ]
  },
  {
   "cell_type": "code",
   "execution_count": 17,
   "id": "6385472a",
   "metadata": {},
   "outputs": [
    {
     "name": "stdout",
     "output_type": "stream",
     "text": [
      "enter the bill amount1000\n",
      "enter the tip amount50\n",
      "total amount to pay: 1050\n"
     ]
    }
   ],
   "source": [
    "# wap ask the user enter bill amount\n",
    "#                  enter how much tip you ant to pay\n",
    "# then calculate total bill\n",
    "\n",
    "# implement the function\n",
    "\n",
    "# Method-1: Normal way\n",
    "bill_amount=eval(input(\"enter the bill amount\"))\n",
    "tip_amount=eval(input(\"enter the tip amount\"))\n",
    "total_amount=bill_amount+tip_amount\n",
    "print(\"total amount to pay:\",total_amount)"
   ]
  },
  {
   "cell_type": "code",
   "execution_count": 18,
   "id": "0603c032",
   "metadata": {},
   "outputs": [
    {
     "name": "stdout",
     "output_type": "stream",
     "text": [
      "enter the bill amount1000\n",
      "enter the tip amount40\n",
      "total amount to pay: 1040\n"
     ]
    }
   ],
   "source": [
    "# Method-2: \n",
    "def bill():\n",
    "    bill_amount=eval(input(\"enter the bill amount\"))\n",
    "    tip_amount=eval(input(\"enter the tip amount\"))\n",
    "    total_amount=bill_amount+tip_amount\n",
    "    print(\"total amount to pay:\",total_amount)\n",
    "    \n",
    "bill()"
   ]
  },
  {
   "cell_type": "code",
   "execution_count": 19,
   "id": "cf924fd8",
   "metadata": {},
   "outputs": [
    {
     "name": "stdout",
     "output_type": "stream",
     "text": [
      "enter the bill amount2000\n",
      "enter the tip amount20\n",
      "total amount to pay: 2020\n"
     ]
    }
   ],
   "source": [
    "# Method-3: \n",
    "def bill():\n",
    "    try:\n",
    "        bill_amount=eval(input(\"enter the bill amount\"))\n",
    "        tip_amount=eval(input(\"enter the tip amount\"))\n",
    "        total_amount=bill_amount+tip_amount\n",
    "        print(\"total amount to pay:\",total_amount)\n",
    "        \n",
    "    except Exception as e:\n",
    "        print(e)\n",
    "    \n",
    "bill()"
   ]
  },
  {
   "cell_type": "code",
   "execution_count": null,
   "id": "7d9b4031",
   "metadata": {},
   "outputs": [],
   "source": [
    "# wap ask the user enter a number\n",
    "# print if it is an even number or odd number\n",
    "\n",
    "# implement a function on this\n",
    "\n",
    "num=eval(input(\"enter a num\"))\n",
    "if num%2==0:\n",
    "    print(\"it is a even number\")\n",
    "else:\n",
    "    print(\"it is odd\")"
   ]
  },
  {
   "cell_type": "code",
   "execution_count": 22,
   "id": "1c0b524a",
   "metadata": {},
   "outputs": [
    {
     "name": "stdout",
     "output_type": "stream",
     "text": [
      "enter a num91\n",
      "it is odd\n"
     ]
    }
   ],
   "source": [
    "def even_odd():\n",
    "    num=eval(input(\"enter a num\"))\n",
    "    if num%2==0:\n",
    "        print(\"it is a even number\")\n",
    "    else:\n",
    "        print(\"it is odd\")\n",
    "        \n",
    "even_odd()"
   ]
  },
  {
   "cell_type": "code",
   "execution_count": null,
   "id": "b6391c8c",
   "metadata": {},
   "outputs": [],
   "source": [
    "1) add()   # not provided anything inside the bracket (with out arguments)\n",
    "2) bill()  # not provided anything inside the bracket (with out argumnets)\n",
    "3) avg()\n",
    "4) salary()\n",
    "5) even_odd()\n",
    "\n",
    "# If we provide any thing inside the brackets\n",
    "# that are called arguments/ parameters"
   ]
  },
  {
   "cell_type": "code",
   "execution_count": 23,
   "id": "9c767eeb",
   "metadata": {},
   "outputs": [],
   "source": [
    "import random\n",
    "random.randint()"
   ]
  },
  {
   "cell_type": "markdown",
   "id": "6767df37",
   "metadata": {},
   "source": [
    "**With arguments**"
   ]
  },
  {
   "cell_type": "code",
   "execution_count": 24,
   "id": "3df239b6",
   "metadata": {},
   "outputs": [
    {
     "name": "stdout",
     "output_type": "stream",
     "text": [
      "50\n"
     ]
    }
   ],
   "source": [
    "def add():\n",
    "    a=20\n",
    "    b=30\n",
    "    print(a+b)\n",
    "    \n",
    "add()"
   ]
  },
  {
   "cell_type": "code",
   "execution_count": 26,
   "id": "5517743b",
   "metadata": {},
   "outputs": [
    {
     "name": "stdout",
     "output_type": "stream",
     "text": [
      "130\n"
     ]
    }
   ],
   "source": [
    "def add(a):\n",
    "    b=30\n",
    "    print(a+b)\n",
    "    \n",
    "add(100)  # a=100"
   ]
  },
  {
   "cell_type": "code",
   "execution_count": 31,
   "id": "644b6537",
   "metadata": {},
   "outputs": [
    {
     "name": "stdout",
     "output_type": "stream",
     "text": [
      "enter number be400\n",
      "500\n"
     ]
    }
   ],
   "source": [
    "def add(a):\n",
    "    b=eval(input(\"enter number b\"))\n",
    "    print(a+b)\n",
    "    \n",
    "add(100)"
   ]
  },
  {
   "cell_type": "code",
   "execution_count": 27,
   "id": "3523cbf3",
   "metadata": {},
   "outputs": [
    {
     "ename": "TypeError",
     "evalue": "add() missing 1 required positional argument: 'b'",
     "output_type": "error",
     "traceback": [
      "\u001b[1;31m---------------------------------------------------------------------------\u001b[0m",
      "\u001b[1;31mTypeError\u001b[0m                                 Traceback (most recent call last)",
      "Cell \u001b[1;32mIn[27], line 4\u001b[0m\n\u001b[0;32m      1\u001b[0m \u001b[38;5;28;01mdef\u001b[39;00m \u001b[38;5;21madd\u001b[39m(a,b):\n\u001b[0;32m      2\u001b[0m     \u001b[38;5;28mprint\u001b[39m(a\u001b[38;5;241m+\u001b[39mb)\n\u001b[1;32m----> 4\u001b[0m add(\u001b[38;5;241m100\u001b[39m)\n",
      "\u001b[1;31mTypeError\u001b[0m: add() missing 1 required positional argument: 'b'"
     ]
    }
   ],
   "source": [
    "def add(a,b):  # while intializing you given two arguments\n",
    "    print(a+b)\n",
    "    \n",
    "add(100)  # a=100  but while calling me , you provided only one arguments"
   ]
  },
  {
   "cell_type": "code",
   "execution_count": 29,
   "id": "4e3b5455",
   "metadata": {},
   "outputs": [
    {
     "ename": "TypeError",
     "evalue": "add() missing 1 required positional argument: 'a'",
     "output_type": "error",
     "traceback": [
      "\u001b[1;31m---------------------------------------------------------------------------\u001b[0m",
      "\u001b[1;31mTypeError\u001b[0m                                 Traceback (most recent call last)",
      "Cell \u001b[1;32mIn[29], line 4\u001b[0m\n\u001b[0;32m      1\u001b[0m \u001b[38;5;28;01mdef\u001b[39;00m \u001b[38;5;21madd\u001b[39m(b,a):  \u001b[38;5;66;03m# while intializing you given two arguments\u001b[39;00m\n\u001b[0;32m      2\u001b[0m     \u001b[38;5;28mprint\u001b[39m(a\u001b[38;5;241m+\u001b[39mb)\n\u001b[1;32m----> 4\u001b[0m add(\u001b[38;5;241m100\u001b[39m)\n",
      "\u001b[1;31mTypeError\u001b[0m: add() missing 1 required positional argument: 'a'"
     ]
    }
   ],
   "source": [
    "def add(b,a):  # while intializing you given two arguments\n",
    "    print(a+b)\n",
    "    \n",
    "add(100)  #"
   ]
  },
  {
   "cell_type": "code",
   "execution_count": 30,
   "id": "5f40ed2c",
   "metadata": {},
   "outputs": [
    {
     "name": "stdout",
     "output_type": "stream",
     "text": [
      "100\n",
      "300\n",
      "400\n"
     ]
    }
   ],
   "source": [
    "def add(a,b):\n",
    "    print(a)\n",
    "    print(b)\n",
    "    print(a+b)\n",
    "    \n",
    "add(100,300)  # a=100 b=300\n",
    "\n",
    "# how many variables you provide "
   ]
  },
  {
   "cell_type": "code",
   "execution_count": 32,
   "id": "2440a8f1",
   "metadata": {},
   "outputs": [
    {
     "ename": "TypeError",
     "evalue": "add() missing 2 required positional arguments: 'a' and 'b'",
     "output_type": "error",
     "traceback": [
      "\u001b[1;31m---------------------------------------------------------------------------\u001b[0m",
      "\u001b[1;31mTypeError\u001b[0m                                 Traceback (most recent call last)",
      "Cell \u001b[1;32mIn[32], line 4\u001b[0m\n\u001b[0;32m      1\u001b[0m \u001b[38;5;28;01mdef\u001b[39;00m \u001b[38;5;21madd\u001b[39m(a,b):  \n\u001b[0;32m      2\u001b[0m     \u001b[38;5;28mprint\u001b[39m(a\u001b[38;5;241m+\u001b[39mb)\n\u001b[1;32m----> 4\u001b[0m add()\n",
      "\u001b[1;31mTypeError\u001b[0m: add() missing 2 required positional arguments: 'a' and 'b'"
     ]
    }
   ],
   "source": [
    "def add(a,b):  \n",
    "    print(a+b)\n",
    "    \n",
    "add() \n",
    "\n",
    "# error:"
   ]
  },
  {
   "cell_type": "code",
   "execution_count": 34,
   "id": "a93b02f2",
   "metadata": {},
   "outputs": [
    {
     "ename": "NameError",
     "evalue": "name 'x' is not defined",
     "output_type": "error",
     "traceback": [
      "\u001b[1;31m---------------------------------------------------------------------------\u001b[0m",
      "\u001b[1;31mNameError\u001b[0m                                 Traceback (most recent call last)",
      "Cell \u001b[1;32mIn[34], line 4\u001b[0m\n\u001b[0;32m      1\u001b[0m \u001b[38;5;28;01mdef\u001b[39;00m \u001b[38;5;21madd\u001b[39m():  \n\u001b[0;32m      2\u001b[0m     \u001b[38;5;28mprint\u001b[39m(x\u001b[38;5;241m+\u001b[39my)\n\u001b[1;32m----> 4\u001b[0m add()\n",
      "Cell \u001b[1;32mIn[34], line 2\u001b[0m, in \u001b[0;36madd\u001b[1;34m()\u001b[0m\n\u001b[0;32m      1\u001b[0m \u001b[38;5;28;01mdef\u001b[39;00m \u001b[38;5;21madd\u001b[39m():  \n\u001b[1;32m----> 2\u001b[0m     \u001b[38;5;28mprint\u001b[39m(x\u001b[38;5;241m+\u001b[39my)\n",
      "\u001b[1;31mNameError\u001b[0m: name 'x' is not defined"
     ]
    }
   ],
   "source": [
    "def add():  \n",
    "    print(x+y)\n",
    "    \n",
    "add() "
   ]
  },
  {
   "cell_type": "code",
   "execution_count": 35,
   "id": "608f0981",
   "metadata": {},
   "outputs": [
    {
     "name": "stdout",
     "output_type": "stream",
     "text": [
      "70\n"
     ]
    }
   ],
   "source": [
    "def add(x, y):\n",
    "    print(x + y)\n",
    "    \n",
    "add(20,50)"
   ]
  },
  {
   "cell_type": "code",
   "execution_count": 36,
   "id": "4e9df77f",
   "metadata": {},
   "outputs": [
    {
     "name": "stdout",
     "output_type": "stream",
     "text": [
      "550\n"
     ]
    }
   ],
   "source": [
    "def add(x, y):\n",
    "    x = 50\n",
    "    x =150\n",
    "    print(x + y)\n",
    "    \n",
    "add(20)  # 20 is x   first in first out\n",
    "\n",
    "# 20 is x\n",
    "# what is the final value of x ?"
   ]
  },
  {
   "cell_type": "code",
   "execution_count": null,
   "id": "6f158f32",
   "metadata": {},
   "outputs": [],
   "source": [
    "# With out arguments\n",
    "def salary():\n",
    "    base_salary=eval(input(\"enter base salary:\"))\n",
    "    DA_amount=eval(input(\"enter DA amount:\"))\n",
    "    total_salary=base_salary+DA_amount\n",
    "    print(\"The total salary is:\",total_salary)"
   ]
  },
  {
   "cell_type": "code",
   "execution_count": 37,
   "id": "cb287a6b",
   "metadata": {},
   "outputs": [
    {
     "name": "stdout",
     "output_type": "stream",
     "text": [
      "The total salary is: 60000\n"
     ]
    }
   ],
   "source": [
    "def salary(base_salary,DA_amount):\n",
    "    total_salary=base_salary+DA_amount\n",
    "    print(\"The total salary is:\",total_salary)\n",
    "    \n",
    "salary(50000,10000)"
   ]
  },
  {
   "cell_type": "code",
   "execution_count": null,
   "id": "516c8bc9",
   "metadata": {},
   "outputs": [],
   "source": [
    "def avg():\n",
    "    try:\n",
    "        num1=eval(input(\"enter the number\"))\n",
    "        num2=eval(input(\"enter the number\"))\n",
    "        num3=eval(input(\"enter the number\"))\n",
    "        avg=(num1+num2+num3)/3\n",
    "        print(\"avg of numbers are\",avg)\n",
    "        \n",
    "    except Exception as e:\n",
    "        print(e)"
   ]
  },
  {
   "cell_type": "code",
   "execution_count": null,
   "id": "bd6ca847",
   "metadata": {},
   "outputs": [],
   "source": [
    "Question: Sir what is the difference between With and Without Arguments?\n",
    "Which one is good to use in real time?"
   ]
  },
  {
   "cell_type": "code",
   "execution_count": 38,
   "id": "3f249a6a",
   "metadata": {},
   "outputs": [
    {
     "name": "stdout",
     "output_type": "stream",
     "text": [
      "avg is: 20.0\n"
     ]
    }
   ],
   "source": [
    "def avg(n1,n2,n3):\n",
    "    avg=(n1+n2+n3)/3\n",
    "    print(\"avg is:\",avg)\n",
    "    \n",
    "avg(10,20,30)"
   ]
  },
  {
   "cell_type": "markdown",
   "id": "847a9037",
   "metadata": {},
   "source": [
    "- With out arguments\n",
    "\n",
    "- with arguments\n",
    "\n",
    "- default arguments"
   ]
  },
  {
   "cell_type": "code",
   "execution_count": 42,
   "id": "65f8545f",
   "metadata": {},
   "outputs": [
    {
     "name": "stdout",
     "output_type": "stream",
     "text": [
      "avg is: 176.66666666666666\n"
     ]
    }
   ],
   "source": [
    "def avg(n1,n2,n3=500):\n",
    "    avg=(n1+n2+n3)/3\n",
    "    print(\"avg is:\",avg)\n",
    "    \n",
    "avg(10,20) \n",
    "\n",
    "# fixed means default\n",
    "# which argument is fixed that is called default argumnets\n",
    "# here n3 is the default argument"
   ]
  },
  {
   "cell_type": "code",
   "execution_count": 43,
   "id": "c94e1ef7",
   "metadata": {},
   "outputs": [
    {
     "name": "stdout",
     "output_type": "stream",
     "text": [
      "n1: 10\n",
      "n2: 20\n",
      "n3: 30\n",
      "avg is: 20.0\n"
     ]
    }
   ],
   "source": [
    "# 1) verification\n",
    "\n",
    "def avg(n1,n2,n3=500):\n",
    "    print(\"n1:\",n1)\n",
    "    print(\"n2:\",n2)\n",
    "    print(\"n3:\",n3) # 30\n",
    "    avg=(n1+n2+n3)/3\n",
    "    print(\"avg is:\",avg)\n",
    "    \n",
    "avg(10,20,30) \n",
    "\n",
    "# intialization is first   ============ n3=500\n",
    "# or calling is first      ============ n3=30\n",
    "# latset value n3=30"
   ]
  },
  {
   "cell_type": "code",
   "execution_count": 49,
   "id": "fb7e2b07",
   "metadata": {},
   "outputs": [],
   "source": [
    "def avg(n1,n2,n3=500):\n",
    "    n3=1000\n",
    "    print(\"n1:\",n1)  # 10\n",
    "    print(\"n2:\",n2)  # 20\n",
    "    print(\"n3:\",n3)  # 1000\n",
    "    avg=(n1+n2+n3)/3\n",
    "    print(\"avg is:\",avg)\n",
    "    \n",
    "\n",
    "\n",
    "# intialization is first   ============ n3=500\n",
    "# or calling is first      ============ n3=30\n",
    "# latset value n3=30\n",
    "#"
   ]
  },
  {
   "cell_type": "code",
   "execution_count": 50,
   "id": "fa0101db",
   "metadata": {},
   "outputs": [
    {
     "name": "stdout",
     "output_type": "stream",
     "text": [
      "n1: 10\n",
      "n2: 20\n",
      "n3: 1000\n",
      "avg is: 343.3333333333333\n"
     ]
    }
   ],
   "source": [
    "avg(10,20)"
   ]
  },
  {
   "cell_type": "code",
   "execution_count": 45,
   "id": "9c000749",
   "metadata": {},
   "outputs": [
    {
     "name": "stdout",
     "output_type": "stream",
     "text": [
      "n1: 10\n",
      "n2: 20\n",
      "n3: 1000\n",
      "avg is: 343.3333333333333\n"
     ]
    }
   ],
   "source": [
    "def avg(n1,n2,n3=500):\n",
    "    n3=1000\n",
    "    print(\"n1:\",n1)  # 10\n",
    "    print(\"n2:\",n2)  # 20\n",
    "    print(\"n3:\",n3)  # ?\n",
    "    avg=(n1+n2+n3)/3\n",
    "    print(\"avg is:\",avg)\n",
    "    \n",
    "avg(10,20,30) \n",
    "\n",
    "# step-1:  what intilaztion\n",
    "# step-2: calling\n",
    "# step-3: inside the function\n"
   ]
  },
  {
   "cell_type": "code",
   "execution_count": 46,
   "id": "41d2c6a6",
   "metadata": {},
   "outputs": [
    {
     "ename": "SyntaxError",
     "evalue": "non-default argument follows default argument (3505352510.py, line 1)",
     "output_type": "error",
     "traceback": [
      "\u001b[1;36m  Cell \u001b[1;32mIn[46], line 1\u001b[1;36m\u001b[0m\n\u001b[1;33m    def avg(n1,n2=1000,n3):\u001b[0m\n\u001b[1;37m                       ^\u001b[0m\n\u001b[1;31mSyntaxError\u001b[0m\u001b[1;31m:\u001b[0m non-default argument follows default argument\n"
     ]
    }
   ],
   "source": [
    "def avg(n1,n2=1000,n3):\n",
    "    print(\"n1:\",n1)  \n",
    "    print(\"n2:\",n2)  \n",
    "    print(\"n3:\",n3)  \n",
    "    avg=(n1+n2+n3)/3\n",
    "    print(\"avg is:\",avg)\n",
    "    \n",
    "avg(10,20)\n",
    "\n",
    "# always default parameters at last "
   ]
  },
  {
   "cell_type": "code",
   "execution_count": 47,
   "id": "b00e7669",
   "metadata": {},
   "outputs": [
    {
     "name": "stdout",
     "output_type": "stream",
     "text": [
      "n1: 10\n",
      "n2: 1000\n",
      "n3: 20\n",
      "avg is: 343.3333333333333\n"
     ]
    }
   ],
   "source": [
    "def avg(n1,n3,n2=1000):\n",
    "    print(\"n1:\",n1)   # 10 \n",
    "    print(\"n2:\",n2)   # 1000\n",
    "    print(\"n3:\",n3)   # 20\n",
    "    avg=(n1+n2+n3)/3\n",
    "    print(\"avg is:\",avg)\n",
    "    \n",
    "avg(10,20)"
   ]
  },
  {
   "cell_type": "code",
   "execution_count": null,
   "id": "47286399",
   "metadata": {},
   "outputs": [],
   "source": [
    "def add(x, y):\n",
    "    x = 50\n",
    "    x =150\n",
    "    print(x + y)\n",
    "    \n",
    "add(50)  # 20 is x   first in first out"
   ]
  },
  {
   "cell_type": "code",
   "execution_count": 48,
   "id": "210e317a",
   "metadata": {},
   "outputs": [
    {
     "ename": "SyntaxError",
     "evalue": "non-default argument follows default argument (1272017798.py, line 1)",
     "output_type": "error",
     "traceback": [
      "\u001b[1;36m  Cell \u001b[1;32mIn[48], line 1\u001b[1;36m\u001b[0m\n\u001b[1;33m    def avg(n1=2000,n2,n3):\u001b[0m\n\u001b[1;37m                    ^\u001b[0m\n\u001b[1;31mSyntaxError\u001b[0m\u001b[1;31m:\u001b[0m non-default argument follows default argument\n"
     ]
    }
   ],
   "source": [
    "def avg(n1=2000,n2,n3):\n",
    "    print(\"n1:\",n1)  \n",
    "    print(\"n2:\",n2)  \n",
    "    print(\"n3:\",n3)  \n",
    "    avg=(n1+n2+n3)/3\n",
    "    print(\"avg is:\",avg)\n",
    "    \n",
    "avg(20,30)"
   ]
  },
  {
   "cell_type": "code",
   "execution_count": null,
   "id": "01bffeb7",
   "metadata": {},
   "outputs": [],
   "source": [
    "# tax payer\n",
    "# tax=10%"
   ]
  },
  {
   "cell_type": "code",
   "execution_count": null,
   "id": "ffce3846",
   "metadata": {},
   "outputs": [],
   "source": [
    "- with out arguments\n",
    "\n",
    "- with arguments\n",
    "\n",
    "- default arguments"
   ]
  },
  {
   "cell_type": "code",
   "execution_count": null,
   "id": "e980133d",
   "metadata": {},
   "outputs": [],
   "source": [
    "# avg problem\n",
    "# WAP ask the user enter 3 number and find the avergae\n",
    "# 1) Normal code\n",
    "# 2) with out arguments\n",
    "# 3) with arguments\n",
    "# 4) default arguments"
   ]
  },
  {
   "cell_type": "code",
   "execution_count": 1,
   "id": "29380c0c",
   "metadata": {},
   "outputs": [
    {
     "name": "stdout",
     "output_type": "stream",
     "text": [
      "enter number1:10\n",
      "enter number2:20\n",
      "enter number3:30\n",
      "The addition of 10 20 and 30 is: 60\n",
      "The average of 10 20 and 30 is: 20.0\n"
     ]
    }
   ],
   "source": [
    "# Method-1:\n",
    "n1=eval(input(\"enter number1:\"))\n",
    "n2=eval(input(\"enter number2:\"))\n",
    "n3=eval(input(\"enter number3:\"))\n",
    "add=n1+n2+n3\n",
    "avg=round(add/3,2)\n",
    "print(\"The addition of {} {} and {} is: {}\".format(n1,n2,n3,add))\n",
    "print(\"The average of {} {} and {} is: {}\".format(n1,n2,n3,avg))"
   ]
  },
  {
   "cell_type": "code",
   "execution_count": 4,
   "id": "e1ee1efb",
   "metadata": {},
   "outputs": [],
   "source": [
    "# Method-2: Implement function with out arguments\n",
    "def avg_with_out():\n",
    "    n1=eval(input(\"enter number1:\"))\n",
    "    n2=eval(input(\"enter number2:\"))\n",
    "    n3=eval(input(\"enter number3:\"))\n",
    "    add=n1+n2+n3\n",
    "    avg=round(add/3,2)\n",
    "    print(\"The addition of {} {} and {} is: {}\".format(n1,n2,n3,add))\n",
    "    print(\"The average of {} {} and {} is: {}\".format(n1,n2,n3,avg))\n",
    "    \n",
    "# above function is defined \n",
    "# It will not give any output untill unless call the function"
   ]
  },
  {
   "cell_type": "code",
   "execution_count": 5,
   "id": "27c1e162",
   "metadata": {},
   "outputs": [
    {
     "name": "stdout",
     "output_type": "stream",
     "text": [
      "enter number1:20\n",
      "enter number2:50\n",
      "enter number3:100\n",
      "The addition of 20 50 and 100 is: 170\n",
      "The average of 20 50 and 100 is: 56.67\n"
     ]
    }
   ],
   "source": [
    "avg_with_out()"
   ]
  },
  {
   "cell_type": "code",
   "execution_count": 6,
   "id": "46d3e0c5",
   "metadata": {},
   "outputs": [],
   "source": [
    "# Method-3: with argumnets\n",
    "#In method we are asking user to enter 3 numbers\n",
    "# we use these three numbers as argumnets\n",
    "\n",
    "def avg_with_arg(n1,n2,n3):\n",
    "    add=n1+n2+n3\n",
    "    avg=round(add/3,2)\n",
    "    print(\"The addition of {} {} and {} is: {}\".format(n1,n2,n3,add))\n",
    "    print(\"The average of {} {} and {} is: {}\".format(n1,n2,n3,avg))"
   ]
  },
  {
   "cell_type": "code",
   "execution_count": 7,
   "id": "bc26a7ac",
   "metadata": {},
   "outputs": [
    {
     "name": "stdout",
     "output_type": "stream",
     "text": [
      "The addition of 100 200 and 300 is: 600\n",
      "The average of 100 200 and 300 is: 200.0\n"
     ]
    }
   ],
   "source": [
    "avg_with_arg(100,200,300) # n1=100 n2=200 n3=300"
   ]
  },
  {
   "cell_type": "code",
   "execution_count": 8,
   "id": "32ef2891",
   "metadata": {},
   "outputs": [],
   "source": [
    "# Mrthod-4: Default argumnets  n3=1000\n",
    "def avg_with_default(n1,n2,n3=1000):\n",
    "    add=n1+n2+n3\n",
    "    avg=round(add/3,2)\n",
    "    print(\"The addition of {} {} and {} is: {}\".format(n1,n2,n3,add))\n",
    "    print(\"The average of {} {} and {} is: {}\".format(n1,n2,n3,avg))"
   ]
  },
  {
   "cell_type": "code",
   "execution_count": 9,
   "id": "4be3497d",
   "metadata": {},
   "outputs": [
    {
     "name": "stdout",
     "output_type": "stream",
     "text": [
      "The addition of 200 300 and 1000 is: 1500\n",
      "The average of 200 300 and 1000 is: 500.0\n"
     ]
    }
   ],
   "source": [
    "avg_with_default(200,300) # n1=200 n2=300"
   ]
  },
  {
   "cell_type": "code",
   "execution_count": 15,
   "id": "a536152d",
   "metadata": {},
   "outputs": [
    {
     "name": "stdout",
     "output_type": "stream",
     "text": [
      "enter number1:20\n",
      "enter number2:30\n",
      "enter number3:40\n",
      "The addition of 20 30 and 40 is: 60\n",
      "The average of 20 30 and 40 is: 20.0\n"
     ]
    }
   ],
   "source": [
    "def avg_with_out():\n",
    "    n1=eval(input(\"enter number1:\"))\n",
    "    n2=eval(input(\"enter number2:\"))\n",
    "    n3=eval(input(\"enter number3:\"))\n",
    "    ADD=n1+n2+n3\n",
    "    AVG=round(add/3,2)\n",
    "    print(\"The addition of {} {} and {} is: {}\".format(n1,n2,n3,add))\n",
    "    print(\"The average of {} {} and {} is: {}\".format(n1,n2,n3,AVG))\n",
    "    \n",
    "avg_with_out()"
   ]
  },
  {
   "cell_type": "code",
   "execution_count": 16,
   "id": "4eba8ef1",
   "metadata": {},
   "outputs": [
    {
     "ename": "NameError",
     "evalue": "name 'AVG' is not defined",
     "output_type": "error",
     "traceback": [
      "\u001b[1;31m---------------------------------------------------------------------------\u001b[0m",
      "\u001b[1;31mNameError\u001b[0m                                 Traceback (most recent call last)",
      "Cell \u001b[1;32mIn[16], line 3\u001b[0m\n\u001b[0;32m      1\u001b[0m \u001b[38;5;66;03m# I want use the avg value in future reference\u001b[39;00m\n\u001b[0;32m      2\u001b[0m \u001b[38;5;66;03m# Im printing avg value outside the function\u001b[39;00m\n\u001b[1;32m----> 3\u001b[0m \u001b[38;5;28mprint\u001b[39m(AVG)\n",
      "\u001b[1;31mNameError\u001b[0m: name 'AVG' is not defined"
     ]
    }
   ],
   "source": [
    "# I want use the avg value in future reference\n",
    "# Im printing avg value outside the function\n",
    "print(AVG)\n",
    "\n",
    "# the name :  AVG is not defined before\n",
    "# sir i defined inside the function\n",
    "# that function not handover the value to you\n",
    "# handover ======= return\n",
    "# he is not return , he is just printing the value\n",
    "\n",
    "\n",
    "inside defined fun will not work for outside the fun"
   ]
  },
  {
   "cell_type": "code",
   "execution_count": 17,
   "id": "e22c0035",
   "metadata": {},
   "outputs": [
    {
     "ename": "NameError",
     "evalue": "name 'ADD' is not defined",
     "output_type": "error",
     "traceback": [
      "\u001b[1;31m---------------------------------------------------------------------------\u001b[0m",
      "\u001b[1;31mNameError\u001b[0m                                 Traceback (most recent call last)",
      "Cell \u001b[1;32mIn[17], line 1\u001b[0m\n\u001b[1;32m----> 1\u001b[0m \u001b[38;5;28mprint\u001b[39m(ADD)\n",
      "\u001b[1;31mNameError\u001b[0m: name 'ADD' is not defined"
     ]
    }
   ],
   "source": [
    "print(ADD)"
   ]
  },
  {
   "cell_type": "code",
   "execution_count": 34,
   "id": "616f59c6",
   "metadata": {},
   "outputs": [],
   "source": [
    "def avg_with_out():\n",
    "    n1=eval(input(\"enter number1:\"))\n",
    "    n2=eval(input(\"enter number2:\"))\n",
    "    n3=eval(input(\"enter number3:\"))\n",
    "    ADD11=n1+n2+n3\n",
    "    AVG11=round(ADD11/3,2)\n",
    "    print(\"The addition of {} {} and {} is: {}\".format(n1,n2,n3,ADD11))\n",
    "    print(\"The average of {} {} and {} is: {}\".format(n1,n2,n3,AVG11))\n",
    "    return(AVG11)\n",
    "   \n",
    " \n",
    "#step-1: no return syntax in your code\n",
    "# step-2: change the varible name\n",
    "# step-3: this function not return anything\n",
    "#        but you want to use AVG11 value outside the function call"
   ]
  },
  {
   "cell_type": "code",
   "execution_count": 35,
   "id": "d3beb4e1",
   "metadata": {},
   "outputs": [
    {
     "name": "stdout",
     "output_type": "stream",
     "text": [
      "enter number1:20\n",
      "enter number2:30\n",
      "enter number3:40\n",
      "The addition of 20 30 and 40 is: 90\n",
      "The average of 20 30 and 40 is: 30.0\n"
     ]
    }
   ],
   "source": [
    "avg_value=avg_with_out() # this function is return one value, you need ti save that"
   ]
  },
  {
   "cell_type": "code",
   "execution_count": 36,
   "id": "7e42039c",
   "metadata": {},
   "outputs": [
    {
     "data": {
      "text/plain": [
       "30.0"
      ]
     },
     "execution_count": 36,
     "metadata": {},
     "output_type": "execute_result"
    }
   ],
   "source": [
    "avg_value"
   ]
  },
  {
   "cell_type": "code",
   "execution_count": 25,
   "id": "79f2caf6",
   "metadata": {},
   "outputs": [
    {
     "ename": "KeyboardInterrupt",
     "evalue": "Interrupted by user",
     "output_type": "error",
     "traceback": [
      "\u001b[1;31m---------------------------------------------------------------------------\u001b[0m",
      "\u001b[1;31mKeyboardInterrupt\u001b[0m                         Traceback (most recent call last)",
      "Cell \u001b[1;32mIn[25], line 1\u001b[0m\n\u001b[1;32m----> 1\u001b[0m output1\u001b[38;5;241m=\u001b[39mavg_with_out()\n",
      "Cell \u001b[1;32mIn[24], line 2\u001b[0m, in \u001b[0;36mavg_with_out\u001b[1;34m()\u001b[0m\n\u001b[0;32m      1\u001b[0m \u001b[38;5;28;01mdef\u001b[39;00m \u001b[38;5;21mavg_with_out\u001b[39m():\n\u001b[1;32m----> 2\u001b[0m     n1\u001b[38;5;241m=\u001b[39m\u001b[38;5;28meval\u001b[39m(\u001b[38;5;28minput\u001b[39m(\u001b[38;5;124m\"\u001b[39m\u001b[38;5;124menter number1:\u001b[39m\u001b[38;5;124m\"\u001b[39m))\n\u001b[0;32m      3\u001b[0m     n2\u001b[38;5;241m=\u001b[39m\u001b[38;5;28meval\u001b[39m(\u001b[38;5;28minput\u001b[39m(\u001b[38;5;124m\"\u001b[39m\u001b[38;5;124menter number2:\u001b[39m\u001b[38;5;124m\"\u001b[39m))\n\u001b[0;32m      4\u001b[0m     n3\u001b[38;5;241m=\u001b[39m\u001b[38;5;28meval\u001b[39m(\u001b[38;5;28minput\u001b[39m(\u001b[38;5;124m\"\u001b[39m\u001b[38;5;124menter number3:\u001b[39m\u001b[38;5;124m\"\u001b[39m))\n",
      "File \u001b[1;32m~\\anaconda3\\Lib\\site-packages\\ipykernel\\kernelbase.py:1202\u001b[0m, in \u001b[0;36mKernel.raw_input\u001b[1;34m(self, prompt)\u001b[0m\n\u001b[0;32m   1200\u001b[0m     msg \u001b[38;5;241m=\u001b[39m \u001b[38;5;124m\"\u001b[39m\u001b[38;5;124mraw_input was called, but this frontend does not support input requests.\u001b[39m\u001b[38;5;124m\"\u001b[39m\n\u001b[0;32m   1201\u001b[0m     \u001b[38;5;28;01mraise\u001b[39;00m StdinNotImplementedError(msg)\n\u001b[1;32m-> 1202\u001b[0m \u001b[38;5;28;01mreturn\u001b[39;00m \u001b[38;5;28mself\u001b[39m\u001b[38;5;241m.\u001b[39m_input_request(\n\u001b[0;32m   1203\u001b[0m     \u001b[38;5;28mstr\u001b[39m(prompt),\n\u001b[0;32m   1204\u001b[0m     \u001b[38;5;28mself\u001b[39m\u001b[38;5;241m.\u001b[39m_parent_ident[\u001b[38;5;124m\"\u001b[39m\u001b[38;5;124mshell\u001b[39m\u001b[38;5;124m\"\u001b[39m],\n\u001b[0;32m   1205\u001b[0m     \u001b[38;5;28mself\u001b[39m\u001b[38;5;241m.\u001b[39mget_parent(\u001b[38;5;124m\"\u001b[39m\u001b[38;5;124mshell\u001b[39m\u001b[38;5;124m\"\u001b[39m),\n\u001b[0;32m   1206\u001b[0m     password\u001b[38;5;241m=\u001b[39m\u001b[38;5;28;01mFalse\u001b[39;00m,\n\u001b[0;32m   1207\u001b[0m )\n",
      "File \u001b[1;32m~\\anaconda3\\Lib\\site-packages\\ipykernel\\kernelbase.py:1245\u001b[0m, in \u001b[0;36mKernel._input_request\u001b[1;34m(self, prompt, ident, parent, password)\u001b[0m\n\u001b[0;32m   1242\u001b[0m \u001b[38;5;28;01mexcept\u001b[39;00m \u001b[38;5;167;01mKeyboardInterrupt\u001b[39;00m:\n\u001b[0;32m   1243\u001b[0m     \u001b[38;5;66;03m# re-raise KeyboardInterrupt, to truncate traceback\u001b[39;00m\n\u001b[0;32m   1244\u001b[0m     msg \u001b[38;5;241m=\u001b[39m \u001b[38;5;124m\"\u001b[39m\u001b[38;5;124mInterrupted by user\u001b[39m\u001b[38;5;124m\"\u001b[39m\n\u001b[1;32m-> 1245\u001b[0m     \u001b[38;5;28;01mraise\u001b[39;00m \u001b[38;5;167;01mKeyboardInterrupt\u001b[39;00m(msg) \u001b[38;5;28;01mfrom\u001b[39;00m \u001b[38;5;28;01mNone\u001b[39;00m\n\u001b[0;32m   1246\u001b[0m \u001b[38;5;28;01mexcept\u001b[39;00m \u001b[38;5;167;01mException\u001b[39;00m:\n\u001b[0;32m   1247\u001b[0m     \u001b[38;5;28mself\u001b[39m\u001b[38;5;241m.\u001b[39mlog\u001b[38;5;241m.\u001b[39mwarning(\u001b[38;5;124m\"\u001b[39m\u001b[38;5;124mInvalid Message:\u001b[39m\u001b[38;5;124m\"\u001b[39m, exc_info\u001b[38;5;241m=\u001b[39m\u001b[38;5;28;01mTrue\u001b[39;00m)\n",
      "\u001b[1;31mKeyboardInterrupt\u001b[0m: Interrupted by user"
     ]
    }
   ],
   "source": [
    "output1=avg_with_out()  # this function is return only one value"
   ]
  },
  {
   "cell_type": "code",
   "execution_count": 23,
   "id": "850c4e35",
   "metadata": {},
   "outputs": [
    {
     "name": "stdout",
     "output_type": "stream",
     "text": [
      "20.0\n"
     ]
    }
   ],
   "source": [
    "print(output1)"
   ]
  },
  {
   "cell_type": "code",
   "execution_count": 37,
   "id": "ab4f3491",
   "metadata": {},
   "outputs": [],
   "source": [
    "def avg_with_out():\n",
    "    n1=eval(input(\"enter number1:\"))\n",
    "    n2=eval(input(\"enter number2:\"))\n",
    "    n3=eval(input(\"enter number3:\"))\n",
    "    ADD11=n1+n2+n3\n",
    "    AVG11=round(ADD11/3,2)\n",
    "    print(\"The addition of {} {} and {} is: {}\".format(n1,n2,n3,ADD11))\n",
    "    print(\"The average of {} {} and {} is: {}\".format(n1,n2,n3,AVG11))\n",
    "    return(AVG11,ADD11)"
   ]
  },
  {
   "cell_type": "code",
   "execution_count": 38,
   "id": "ff608217",
   "metadata": {},
   "outputs": [
    {
     "name": "stdout",
     "output_type": "stream",
     "text": [
      "enter number1:300\n",
      "enter number2:300\n",
      "enter number3:300\n",
      "The addition of 300 300 and 300 is: 900\n",
      "The average of 300 300 and 300 is: 300.0\n"
     ]
    }
   ],
   "source": [
    "avg,add=avg_with_out()\n",
    "\n",
    "# Most of the time developers use same name"
   ]
  },
  {
   "cell_type": "code",
   "execution_count": 39,
   "id": "95c41e69",
   "metadata": {},
   "outputs": [
    {
     "name": "stdout",
     "output_type": "stream",
     "text": [
      "300.0 900\n"
     ]
    }
   ],
   "source": [
    "print(avg,add)"
   ]
  },
  {
   "cell_type": "code",
   "execution_count": 42,
   "id": "339bdf80",
   "metadata": {},
   "outputs": [
    {
     "name": "stdout",
     "output_type": "stream",
     "text": [
      "Enter the Bill amount: 1000\n",
      "Enter the Tip: 200\n",
      "The total bill amount is :  1200\n"
     ]
    },
    {
     "data": {
      "text/plain": [
       "(1000, 200)"
      ]
     },
     "execution_count": 42,
     "metadata": {},
     "output_type": "execute_result"
    }
   ],
   "source": [
    "def bill():\n",
    "    try:\n",
    "        bill_amount=eval(input(\"Enter the Bill amount: \"))\n",
    "        tip=eval(input(\"Enter the Tip: \"))\n",
    "        total_amount=bill_amount+tip\n",
    "        print(\"The total bill amount is : \",total_amount)\n",
    "        return(bill_amount,tip)\n",
    "    except Exception as e:\n",
    "            print(e)\n",
    "            \n",
    "return_bill_amount=bill()\n",
    "return_bill_amount\n",
    "\n",
    "\n",
    "# in bill function:\n",
    "# total how many variables : 3\n",
    "# 2 are user taken values\n",
    "# 1 is calculated by python\n",
    "# how many values you want return , that is your wish"
   ]
  },
  {
   "cell_type": "code",
   "execution_count": null,
   "id": "0763b254",
   "metadata": {},
   "outputs": [],
   "source": [
    "Sir, how we know function has two values. \n",
    "So that we can write and add and avg"
   ]
  },
  {
   "cell_type": "code",
   "execution_count": null,
   "id": "ceafb26a",
   "metadata": {},
   "outputs": [],
   "source": [
    "# create a function with deafault parameter as tax_percentage=10\n",
    "# enter your salary\n",
    "# calaculate totl tax_amount you want to pay:  (salary*tax_per)/100\n",
    "# and return tax_amount\n",
    "\n",
    "def tax_amount(): # inside provide tax_percentage=10    \n",
    "    salary=eval(input(\"enter your salary:\")) # this correct\n",
    "    tax_amount=10*salary/100 #default argument tax_percentage\n",
    "    print(\"tax amout is:\",tax_amount)\n",
    "    # return"
   ]
  },
  {
   "cell_type": "code",
   "execution_count": null,
   "id": "219a5569",
   "metadata": {},
   "outputs": [],
   "source": [
    "# wap with two a and b arguments\n",
    "# return add sub  mul  divsion"
   ]
  },
  {
   "cell_type": "code",
   "execution_count": 43,
   "id": "9a4bf551",
   "metadata": {},
   "outputs": [],
   "source": [
    "def tax_percentage(tax_percentage=10):    \n",
    "    salary=eval(input(\"enter your salary:\"))\n",
    "    tax_amount=tax_percentage*salary/100\n",
    "    return(tax_amount)"
   ]
  },
  {
   "cell_type": "code",
   "execution_count": 44,
   "id": "a0c838d2",
   "metadata": {},
   "outputs": [
    {
     "name": "stdout",
     "output_type": "stream",
     "text": [
      "enter your salary:10000\n",
      "1000.0\n"
     ]
    }
   ],
   "source": [
    "def tax_percentage(tax_percentage=10):    \n",
    "    salary=eval(input(\"enter your salary:\"))\n",
    "    tax_amount=tax_percentage*salary/100\n",
    "    return(tax_amount)\n",
    "\n",
    "tax_amount=tax_percentage()\n",
    "print(tax_amount)"
   ]
  },
  {
   "cell_type": "code",
   "execution_count": 45,
   "id": "e25724d3",
   "metadata": {},
   "outputs": [],
   "source": [
    "def math(a,b):\n",
    "    add=a+b\n",
    "    sub=a-b\n",
    "    mul=a*b\n",
    "    div=a/b\n",
    "    return(add,sub,mul,div)"
   ]
  },
  {
   "cell_type": "code",
   "execution_count": 46,
   "id": "0879034d",
   "metadata": {},
   "outputs": [
    {
     "name": "stdout",
     "output_type": "stream",
     "text": [
      "30 -10 200 0.5\n"
     ]
    }
   ],
   "source": [
    "add,sub,mul,div=math(10,20)\n",
    "print(add,sub,mul,div)"
   ]
  },
  {
   "cell_type": "markdown",
   "id": "9c3006a7",
   "metadata": {},
   "source": [
    "**Local Variables**"
   ]
  },
  {
   "cell_type": "code",
   "execution_count": null,
   "id": "a1290a4b",
   "metadata": {},
   "outputs": [],
   "source": [
    "def avg_with_out():\n",
    "    n1=eval(input(\"enter number1:\"))\n",
    "    n2=eval(input(\"enter number2:\"))\n",
    "    n3=eval(input(\"enter number3:\"))\n",
    "    ADD_11=n1+n2+n3\n",
    "    AVG_11=round(ADD_11/3,2)\n",
    "    print(\"The addition of {} {} and {} is: {}\".format(n1,n2,n3,ADD_11))\n",
    "    print(\"The average of {} {} and {} is: {}\".format(n1,n2,n3,AVG_11))\n",
    "    return(AVG11,ADD11)\n",
    "\n",
    "# How many variables are there:5\n",
    "# n1 n2 n3 are values provided by user\n",
    "# ADD_11  and AVG_11 is getting by python cde\n",
    "\n",
    "# q) n1 n2 n3 are inside the function:  local variables\n",
    "# these local variables you cant use outside the function, until unless return the value"
   ]
  },
  {
   "cell_type": "code",
   "execution_count": null,
   "id": "b547f931",
   "metadata": {},
   "outputs": [],
   "source": []
  },
  {
   "cell_type": "code",
   "execution_count": 51,
   "id": "a5c1b16e",
   "metadata": {},
   "outputs": [],
   "source": [
    "def tax_per(tax_percentage11=10):    \n",
    "    salary=eval(input(\"enter your salary:\"))\n",
    "    tax_amount=tax_percentage*salary/100\n",
    "    return(tax_amount)\n",
    "\n",
    "# what are the local variables: tax_per,salary,tax"
   ]
  },
  {
   "cell_type": "code",
   "execution_count": 52,
   "id": "28b62251",
   "metadata": {},
   "outputs": [
    {
     "ename": "NameError",
     "evalue": "name 'tax_percentage11' is not defined",
     "output_type": "error",
     "traceback": [
      "\u001b[1;31m---------------------------------------------------------------------------\u001b[0m",
      "\u001b[1;31mNameError\u001b[0m                                 Traceback (most recent call last)",
      "Cell \u001b[1;32mIn[52], line 1\u001b[0m\n\u001b[1;32m----> 1\u001b[0m tax_percentage11\n",
      "\u001b[1;31mNameError\u001b[0m: name 'tax_percentage11' is not defined"
     ]
    }
   ],
   "source": [
    "tax_percentage11"
   ]
  },
  {
   "cell_type": "code",
   "execution_count": 55,
   "id": "b7c5b13b",
   "metadata": {},
   "outputs": [
    {
     "name": "stdout",
     "output_type": "stream",
     "text": [
      "enter number1:100\n",
      "enter number2:200\n",
      "enter number3:300\n"
     ]
    }
   ],
   "source": [
    "n1=eval(input(\"enter number1:\")) # GV\n",
    "n2=eval(input(\"enter number2:\")) # GV\n",
    "n3=eval(input(\"enter number3:\")) # GV\n",
    "\n",
    "def avg_with_out():\n",
    "    ADD_11=n1+n2+n3   #LV\n",
    "    AVG_11=round(ADD_11/3,2) #LV\n",
    "    print(\"The addition of {} {} and {} is: {}\".format(n1,n2,n3,ADD_11))\n",
    "    print(\"The average of {} {} and {} is: {}\".format(n1,n2,n3,AVG_11))\n",
    "    return(AVG_11,ADD_11)\n",
    "\n"
   ]
  },
  {
   "cell_type": "code",
   "execution_count": 56,
   "id": "3f947f3a",
   "metadata": {},
   "outputs": [
    {
     "name": "stdout",
     "output_type": "stream",
     "text": [
      "The addition of 100 200 and 300 is: 600\n",
      "The average of 100 200 and 300 is: 200.0\n"
     ]
    }
   ],
   "source": [
    "avg,add=avg_with_out()"
   ]
  },
  {
   "cell_type": "markdown",
   "id": "1c48b678",
   "metadata": {},
   "source": [
    "- Local varaibles means inside the function\n",
    "\n",
    "    - you cant use out side the function untill unless you return the variables\n",
    "\n",
    "- Global variable are out side the function, it can use inside the function also"
   ]
  },
  {
   "cell_type": "markdown",
   "id": "be1c60e2",
   "metadata": {},
   "source": [
    "- define the functions\n",
    "\n",
    "- with out arguments\n",
    "\n",
    "- with arguments\n",
    "\n",
    "- default arguments\n",
    "\n",
    "- return \n",
    "\n",
    "- local variable\n",
    "\n",
    "- global variable"
   ]
  },
  {
   "cell_type": "code",
   "execution_count": null,
   "id": "fef74f9d",
   "metadata": {},
   "outputs": [],
   "source": [
    "# take three numbers find the greatest number\n",
    "# n1=50  n2=60  n3=70\n",
    "if num1>num2 and num1>num3 # num1 is \n",
    "elif num2>num3  # num2\n",
    "else: num3\n"
   ]
  },
  {
   "cell_type": "code",
   "execution_count": null,
   "id": "c5fa37e3",
   "metadata": {},
   "outputs": [],
   "source": [
    "def math(x,y):\n",
    "    add=x+y\n",
    "    sub=x-y\n",
    "    mul=x*y\n",
    "    div=x/y\n",
    "    return(add,sub,mul,div) # 4 items take ===== 4 bags\n",
    "\n",
    "ans1,ans2,ans3,ans4=math(20,30)"
   ]
  },
  {
   "cell_type": "code",
   "execution_count": 61,
   "id": "ba330c19",
   "metadata": {},
   "outputs": [
    {
     "name": "stdout",
     "output_type": "stream",
     "text": [
      "Enter the first number: 20\n",
      "Enter the Second number: 30\n",
      "Enter the third number: 40\n"
     ]
    }
   ],
   "source": [
    "n1 = eval(input(\"Enter the first number: \"))\n",
    "n2 = eval(input(\"Enter the Second number: \"))\n",
    "n3 = eval(input(\"Enter the third number: \"))\n",
    "\n",
    "def avg_cal():\n",
    "    sum_3 = n1+n2+n3\n",
    "    avg = sum_3/3\n",
    "    return(sum_3,avg)\n",
    "\n",
    "\n",
    "add,avg=avg_cal()  # dont give any thing inside"
   ]
  },
  {
   "cell_type": "code",
   "execution_count": 65,
   "id": "46d8ad62",
   "metadata": {},
   "outputs": [
    {
     "name": "stdout",
     "output_type": "stream",
     "text": [
      "Enter the first number: 300\n",
      "Enter the Second number: 100\n",
      "Enter the third number: 200\n",
      "300 is greatest\n"
     ]
    }
   ],
   "source": [
    "n1 = eval(input(\"Enter the first number: \"))\n",
    "n2 = eval(input(\"Enter the Second number: \"))\n",
    "n3 = eval(input(\"Enter the third number: \"))\n",
    "\n",
    "if n1>n2 and n1>n3:\n",
    "    print(\"{} is greatest\".format(n1))\n",
    "elif n2>n3:\n",
    "    print(\"{} is greatest\".format(n2))\n",
    "else:\n",
    "    print(\"{} is greatest\".format(n3))\n",
    "    \n",
    "    \n",
    "    \n",
    "# define the functions\n",
    "\n",
    "# with out arguments\n",
    "\n",
    "# with arguments\n",
    "\n",
    "# default arguments\n",
    "\n",
    "# return \n",
    "\n",
    "# local variable\n",
    "\n",
    "# global variable"
   ]
  },
  {
   "cell_type": "code",
   "execution_count": null,
   "id": "1a0c39e4",
   "metadata": {},
   "outputs": [],
   "source": []
  }
 ],
 "metadata": {
  "kernelspec": {
   "display_name": "Python 3 (ipykernel)",
   "language": "python",
   "name": "python3"
  },
  "language_info": {
   "codemirror_mode": {
    "name": "ipython",
    "version": 3
   },
   "file_extension": ".py",
   "mimetype": "text/x-python",
   "name": "python",
   "nbconvert_exporter": "python",
   "pygments_lexer": "ipython3",
   "version": "3.9.13"
  }
 },
 "nbformat": 4,
 "nbformat_minor": 5
}
