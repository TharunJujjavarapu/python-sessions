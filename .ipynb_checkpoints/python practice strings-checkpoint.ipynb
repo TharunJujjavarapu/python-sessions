{
 "cells": [
  {
   "cell_type": "code",
   "execution_count": 7,
   "id": "7c985d0b",
   "metadata": {},
   "outputs": [],
   "source": [
    "name='string'"
   ]
  },
  {
   "cell_type": "code",
   "execution_count": null,
   "id": "326c575a",
   "metadata": {},
   "outputs": [],
   "source": [
    "type\n",
    "max\n",
    "len\n",
    "min"
   ]
  },
  {
   "cell_type": "code",
   "execution_count": null,
   "id": "b7db1263",
   "metadata": {},
   "outputs": [],
   "source": [
    "# im modifying the code"
   ]
  },
  {
   "cell_type": "code",
   "execution_count": 4,
   "id": "61cad39e",
   "metadata": {},
   "outputs": [
    {
     "data": {
      "text/plain": [
       "str"
      ]
     },
     "execution_count": 4,
     "metadata": {},
     "output_type": "execute_result"
    }
   ],
   "source": [
    "type(name)"
   ]
  },
  {
   "cell_type": "code",
   "execution_count": 3,
   "id": "128c018b",
   "metadata": {},
   "outputs": [
    {
     "data": {
      "text/plain": [
       "7"
      ]
     },
     "execution_count": 3,
     "metadata": {},
     "output_type": "execute_result"
    }
   ],
   "source": [
    "len(name)"
   ]
  },
  {
   "cell_type": "code",
   "execution_count": 5,
   "id": "205a9727",
   "metadata": {},
   "outputs": [
    {
     "data": {
      "text/plain": [
       "'t'"
      ]
     },
     "execution_count": 5,
     "metadata": {},
     "output_type": "execute_result"
    }
   ],
   "source": [
    "max(name)"
   ]
  },
  {
   "cell_type": "code",
   "execution_count": 8,
   "id": "9ed3c4a2",
   "metadata": {},
   "outputs": [
    {
     "data": {
      "text/plain": [
       "'g'"
      ]
     },
     "execution_count": 8,
     "metadata": {},
     "output_type": "execute_result"
    }
   ],
   "source": [
    "min(name)"
   ]
  },
  {
   "cell_type": "code",
   "execution_count": 11,
   "id": "c16a0e27",
   "metadata": {},
   "outputs": [
    {
     "name": "stdout",
     "output_type": "stream",
     "text": [
      "s 115\n",
      "t 116\n",
      "r 114\n",
      "i 105\n",
      "n 110\n",
      "g 103\n"
     ]
    }
   ],
   "source": [
    "for i in 'string':\n",
    "    print(i,ord(i))"
   ]
  },
  {
   "cell_type": "code",
   "execution_count": 14,
   "id": "0640d212",
   "metadata": {},
   "outputs": [
    {
     "name": "stdout",
     "output_type": "stream",
     "text": [
      "correct 1\n",
      "correct 2\n",
      "wrong\n",
      "wrong\n",
      "wrong\n",
      "wrong\n"
     ]
    }
   ],
   "source": [
    "count=0\n",
    "for i in 'string':\n",
    "    if i in 'st':\n",
    "        count=count+1\n",
    "        print('correct',count)\n",
    "    else:\n",
    "        print('wrong')"
   ]
  },
  {
   "cell_type": "markdown",
   "id": "119d0a87",
   "metadata": {},
   "source": [
    "# indexing"
   ]
  },
  {
   "cell_type": "code",
   "execution_count": 16,
   "id": "ba53d65e",
   "metadata": {},
   "outputs": [],
   "source": [
    " name='python'\n",
    "# there are the 6 letters in name\n",
    "#python index starts with 0\n",
    "\n",
    " # p  y  t  h  o  n\n",
    " # 0  1  2  3  4  5"
   ]
  },
  {
   "cell_type": "code",
   "execution_count": 17,
   "id": "4e7184a7",
   "metadata": {},
   "outputs": [
    {
     "data": {
      "text/plain": [
       "'p'"
      ]
     },
     "execution_count": 17,
     "metadata": {},
     "output_type": "execute_result"
    }
   ],
   "source": [
    "name[0]"
   ]
  },
  {
   "cell_type": "code",
   "execution_count": 18,
   "id": "2f3bb2d2",
   "metadata": {},
   "outputs": [
    {
     "data": {
      "text/plain": [
       "'y'"
      ]
     },
     "execution_count": 18,
     "metadata": {},
     "output_type": "execute_result"
    }
   ],
   "source": [
    "name[1]"
   ]
  },
  {
   "cell_type": "code",
   "execution_count": 19,
   "id": "4c9f619d",
   "metadata": {},
   "outputs": [
    {
     "ename": "TypeError",
     "evalue": "string indices must be integers",
     "output_type": "error",
     "traceback": [
      "\u001b[1;31m---------------------------------------------------------------------------\u001b[0m",
      "\u001b[1;31mTypeError\u001b[0m                                 Traceback (most recent call last)",
      "\u001b[1;32m~\\AppData\\Local\\Temp\\ipykernel_5792\\2727195282.py\u001b[0m in \u001b[0;36m<module>\u001b[1;34m\u001b[0m\n\u001b[1;32m----> 1\u001b[1;33m \u001b[0mname\u001b[0m\u001b[1;33m[\u001b[0m\u001b[0mi\u001b[0m\u001b[1;33m]\u001b[0m\u001b[1;33m\u001b[0m\u001b[1;33m\u001b[0m\u001b[0m\n\u001b[0m",
      "\u001b[1;31mTypeError\u001b[0m: string indices must be integers"
     ]
    }
   ],
   "source": [
    "name[i]"
   ]
  },
  {
   "cell_type": "code",
   "execution_count": 22,
   "id": "d4c9e1ad",
   "metadata": {},
   "outputs": [
    {
     "name": "stdout",
     "output_type": "stream",
     "text": [
      "p\n",
      "y\n",
      "t\n",
      "h\n",
      "o\n",
      "n\n"
     ]
    }
   ],
   "source": [
    "for i in name:\n",
    "    print(i)"
   ]
  },
  {
   "cell_type": "code",
   "execution_count": 26,
   "id": "91d4234c",
   "metadata": {},
   "outputs": [
    {
     "name": "stdout",
     "output_type": "stream",
     "text": [
      "p---0\n",
      "y---1\n",
      "t---2\n",
      "h---3\n",
      "o---4\n",
      "n---5\n"
     ]
    }
   ],
   "source": [
    "for i in range(len(name)):\n",
    "    print(name[i],i,sep='---')"
   ]
  },
  {
   "cell_type": "code",
   "execution_count": 27,
   "id": "5d024528",
   "metadata": {},
   "outputs": [],
   "source": [
    "name1='hai how are you'#spaces also a consider one character\n"
   ]
  },
  {
   "cell_type": "code",
   "execution_count": 28,
   "id": "8107919c",
   "metadata": {},
   "outputs": [
    {
     "data": {
      "text/plain": [
       "15"
      ]
     },
     "execution_count": 28,
     "metadata": {},
     "output_type": "execute_result"
    }
   ],
   "source": [
    "len(name1)"
   ]
  },
  {
   "cell_type": "code",
   "execution_count": 32,
   "id": "dd33c2e5",
   "metadata": {},
   "outputs": [
    {
     "name": "stdout",
     "output_type": "stream",
     "text": [
      "h\n",
      "a\n",
      "i\n",
      " \n",
      "h\n",
      "o\n",
      "w\n",
      " \n",
      "a\n",
      "r\n",
      "e\n",
      " \n",
      "y\n",
      "o\n",
      "u\n"
     ]
    }
   ],
   "source": [
    "for i in range(15):\n",
    "    print(name1[i])"
   ]
  },
  {
   "cell_type": "code",
   "execution_count": 38,
   "id": "95fd351a",
   "metadata": {},
   "outputs": [
    {
     "name": "stdout",
     "output_type": "stream",
     "text": [
      "15\n",
      "hai how are you"
     ]
    }
   ],
   "source": [
    "#instead of range(15)=range(len(name1))\n",
    "print(len(name1))\n",
    "for i in range(len(name1)):\n",
    "    print(name1[i],end='')\n",
    "    "
   ]
  },
  {
   "cell_type": "code",
   "execution_count": null,
   "id": "d21c2cd3",
   "metadata": {},
   "outputs": [],
   "source": [
    "  \n",
    "    h  a  i    h  o  w     a  r  e     y  o  u\n",
    "    0  1  2  3 4  5  6  7  8  9 10 11 12 13  14\n",
    "    \n",
    "#the index is starts with 0, so its length is 15 i.e is 0-14=15"
   ]
  },
  {
   "cell_type": "code",
   "execution_count": 41,
   "id": "544e701c",
   "metadata": {},
   "outputs": [
    {
     "name": "stdout",
     "output_type": "stream",
     "text": [
      "h\n",
      "a\n",
      "i\n",
      " \n",
      "h\n",
      "o\n",
      "w\n",
      " \n",
      "a\n",
      "r\n",
      "e\n",
      " \n",
      "y\n",
      "o\n",
      "u\n"
     ]
    }
   ],
   "source": [
    "#by using while loop \n",
    "i=0\n",
    "while i<len(name1):\n",
    "    print(name1[i])\n",
    "    i=i+1"
   ]
  },
  {
   "cell_type": "code",
   "execution_count": null,
   "id": "99b54f7f",
   "metadata": {},
   "outputs": [],
   "source": [
    "\n",
    " -6 -5 -4 -3 -2 -1----------negative index\n",
    "  p  y  t  h  o  n\n",
    "  0  1  2  3  4  5--------positive index"
   ]
  },
  {
   "cell_type": "code",
   "execution_count": 43,
   "id": "c5556e84",
   "metadata": {},
   "outputs": [],
   "source": [
    "name3='python'\n",
    "#i want a word like the positive index p is o like that\n",
    "#the negative index of p is -6"
   ]
  },
  {
   "cell_type": "code",
   "execution_count": 44,
   "id": "9138c150",
   "metadata": {},
   "outputs": [
    {
     "name": "stdout",
     "output_type": "stream",
     "text": [
      "the positive index of p is 0\n",
      "the positive index of y is 1\n",
      "the positive index of t is 2\n",
      "the positive index of h is 3\n",
      "the positive index of o is 4\n",
      "the positive index of n is 5\n"
     ]
    }
   ],
   "source": [
    "for i in range(len(name3)):\n",
    "    print(\"the positive index of {} is {}\".format(name3[i],i))"
   ]
  },
  {
   "cell_type": "code",
   "execution_count": 51,
   "id": "1b0bb8d6",
   "metadata": {},
   "outputs": [
    {
     "name": "stdout",
     "output_type": "stream",
     "text": [
      "the negative index of p is -6\n",
      "the negative index of y is -5\n",
      "the negative index of t is -4\n",
      "the negative index of h is -3\n",
      "the negative index of o is -2\n",
      "the negative index of n is -1\n"
     ]
    }
   ],
   "source": [
    "for i in range(len(name3)):\n",
    "    print(\"the negative index of {} is {}\".format(name3[i],i-len(name3)))\n",
    "    \n",
    "# i-length(name3)\n",
    "#i=length(name3)=6=0,1,2,3,4,5\n",
    "#0-6=-6\n",
    "#1-6=-5\n",
    "#2-6=-4\n",
    "#3-6=-3\n",
    "#4-6=-2\n",
    "#5-6=-1"
   ]
  },
  {
   "cell_type": "code",
   "execution_count": 53,
   "id": "60ff7d7a",
   "metadata": {},
   "outputs": [
    {
     "name": "stdout",
     "output_type": "stream",
     "text": [
      "the negative index of p is -6\n",
      "the negative index of y is -5\n",
      "the negative index of t is -4\n",
      "the negative index of h is -3\n",
      "the negative index of o is -2\n",
      "the negative index of n is -1\n"
     ]
    }
   ],
   "source": [
    "i=0\n",
    "while i<(len(name3)):\n",
    "    print(\"the negative index of {} is {}\".format(name3[i],i-len(name3)))\n",
    "    i=i+1"
   ]
  },
  {
   "cell_type": "code",
   "execution_count": 69,
   "id": "814b7158",
   "metadata": {},
   "outputs": [
    {
     "name": "stdout",
     "output_type": "stream",
     "text": [
      "0 1\n",
      "2 2\n",
      "3 3\n",
      "4 4\n",
      "5 5\n",
      "6 6\n",
      "7 7\n",
      "10 8\n"
     ]
    }
   ],
   "source": [
    "n='ayueaioathalg'\n",
    "count=0\n",
    "for i in range(len(n)):\n",
    "    if n[i] in 'aeiou':\n",
    "        count=count+1\n",
    "        print(i,count)"
   ]
  },
  {
   "cell_type": "code",
   "execution_count": null,
   "id": "1ecbb061",
   "metadata": {},
   "outputs": [],
   "source": [
    "#strings are immutable \n",
    "# I want to replace 'p'  with  'P'\n",
    "# based on index operation if you change it or not\n",
    "# if you change the value by using index operation: mutable\n",
    "# if you could not change the value by using index operation: immutable"
   ]
  },
  {
   "cell_type": "code",
   "execution_count": 71,
   "id": "09d70e67",
   "metadata": {},
   "outputs": [],
   "source": [
    "string1='python'\n",
    "# I WANT to replace with ''p' with 'P'"
   ]
  },
  {
   "cell_type": "code",
   "execution_count": 72,
   "id": "dd7a8346",
   "metadata": {},
   "outputs": [
    {
     "ename": "TypeError",
     "evalue": "'str' object does not support item assignment",
     "output_type": "error",
     "traceback": [
      "\u001b[1;31m---------------------------------------------------------------------------\u001b[0m",
      "\u001b[1;31mTypeError\u001b[0m                                 Traceback (most recent call last)",
      "\u001b[1;32m~\\AppData\\Local\\Temp\\ipykernel_5792\\1254263102.py\u001b[0m in \u001b[0;36m<module>\u001b[1;34m\u001b[0m\n\u001b[1;32m----> 1\u001b[1;33m \u001b[0mstring1\u001b[0m\u001b[1;33m[\u001b[0m\u001b[1;36m0\u001b[0m\u001b[1;33m]\u001b[0m\u001b[1;33m=\u001b[0m\u001b[1;34m'P'\u001b[0m\u001b[1;33m\u001b[0m\u001b[1;33m\u001b[0m\u001b[0m\n\u001b[0m",
      "\u001b[1;31mTypeError\u001b[0m: 'str' object does not support item assignment"
     ]
    }
   ],
   "source": [
    "string1[0]='P'"
   ]
  },
  {
   "cell_type": "code",
   "execution_count": null,
   "id": "79a4b506",
   "metadata": {},
   "outputs": [],
   "source": [
    "strings are immutable"
   ]
  },
  {
   "cell_type": "markdown",
   "id": "33cb7918",
   "metadata": {},
   "source": [
    "# slicing"
   ]
  },
  {
   "cell_type": "code",
   "execution_count": 73,
   "id": "e8d1af7f",
   "metadata": {},
   "outputs": [],
   "source": [
    "string1='python'"
   ]
  },
  {
   "cell_type": "code",
   "execution_count": null,
   "id": "4cec8d57",
   "metadata": {},
   "outputs": [],
   "source": [
    "#string1[start,stop,step]\n",
    "#same as range function"
   ]
  },
  {
   "cell_type": "code",
   "execution_count": 74,
   "id": "22467eec",
   "metadata": {},
   "outputs": [],
   "source": [
    "string2='hai how are you'"
   ]
  },
  {
   "cell_type": "code",
   "execution_count": 77,
   "id": "d723fe3a",
   "metadata": {},
   "outputs": [
    {
     "data": {
      "text/plain": [
       "'ha'"
      ]
     },
     "execution_count": 77,
     "metadata": {},
     "output_type": "execute_result"
    }
   ],
   "source": [
    "string2[0:2]\n",
    "#starts with o\n",
    "#stop=2-1=1\n",
    "#o='h'\n",
    "#1=a"
   ]
  },
  {
   "cell_type": "code",
   "execution_count": null,
   "id": "628eb76d",
   "metadata": {},
   "outputs": [],
   "source": [
    " -15 -14 -13 -12 -11 -10 -9 -8 -7 -6 -5 -4 -3 -2 -1\n",
    "  h    a   i      h   o   w     a  r  e     y  o  u\n",
    "  0    1   2   3  4   5   6   7 8  9  10 11 12 13 14"
   ]
  },
  {
   "cell_type": "code",
   "execution_count": 78,
   "id": "0553a384",
   "metadata": {},
   "outputs": [
    {
     "data": {
      "text/plain": [
       "'hai how are you'"
      ]
     },
     "execution_count": 78,
     "metadata": {},
     "output_type": "execute_result"
    }
   ],
   "source": [
    "string2[0:]\n",
    "#star=0\n",
    "#end unti last"
   ]
  },
  {
   "cell_type": "code",
   "execution_count": 80,
   "id": "5b54e4bd",
   "metadata": {},
   "outputs": [
    {
     "data": {
      "text/plain": [
       "'hai how are you'"
      ]
     },
     "execution_count": 80,
     "metadata": {},
     "output_type": "execute_result"
    }
   ],
   "source": [
    "string2[:]\n",
    "#there is no means strts =0 and end untill last character"
   ]
  },
  {
   "cell_type": "code",
   "execution_count": 81,
   "id": "ab9a6c11",
   "metadata": {},
   "outputs": [
    {
     "data": {
      "text/plain": [
       "'hai how are you'"
      ]
     },
     "execution_count": 81,
     "metadata": {},
     "output_type": "execute_result"
    }
   ],
   "source": [
    "string2[::]"
   ]
  },
  {
   "cell_type": "code",
   "execution_count": 82,
   "id": "6d6bd70d",
   "metadata": {},
   "outputs": [
    {
     "data": {
      "text/plain": [
       "'hihwaeyu'"
      ]
     },
     "execution_count": 82,
     "metadata": {},
     "output_type": "execute_result"
    }
   ],
   "source": [
    "string2[::2]\n",
    "#start=0,end=until last step=2\n",
    "#0 2 4 6 8 -----"
   ]
  },
  {
   "cell_type": "code",
   "execution_count": 83,
   "id": "bc61265b",
   "metadata": {},
   "outputs": [
    {
     "data": {
      "text/plain": [
       "'uoy era woh iah'"
      ]
     },
     "execution_count": 83,
     "metadata": {},
     "output_type": "execute_result"
    }
   ],
   "source": [
    "string2[::-1]\n",
    "#step=-1 total string will reverse"
   ]
  },
  {
   "cell_type": "code",
   "execution_count": 84,
   "id": "fe06df5d",
   "metadata": {},
   "outputs": [
    {
     "name": "stdout",
     "output_type": "stream",
     "text": [
      "hai how are you\n",
      "hai how are you\n",
      "hai how are you\n",
      "hai how are you\n"
     ]
    }
   ],
   "source": [
    "print(string2[0:])\n",
    "print(string2[:len(string2)])\n",
    "print(string2[:])\n",
    "print(string2[::])"
   ]
  },
  {
   "cell_type": "code",
   "execution_count": null,
   "id": "77362600",
   "metadata": {},
   "outputs": [],
   "source": [
    "-17  -16 -15 -14 -13 -12 -11  -10 -9 -8 -7  -6  -5  -4   -3  -2  -1\n",
    "h     e   l   l   o       h    o   w     a   r   e        y   o   u\n",
    "0     1   2   3   4   5   6    7   8  9  10  11  12  13   14  15  16"
   ]
  },
  {
   "cell_type": "code",
   "execution_count": 86,
   "id": "f863a79d",
   "metadata": {},
   "outputs": [
    {
     "data": {
      "text/plain": [
       "''"
      ]
     },
     "execution_count": 86,
     "metadata": {},
     "output_type": "execute_result"
    }
   ],
   "source": [
    "string2[-2:-15]\n",
    "#starts=-2,end=-15+1=-14,step no mention means positive so not possible"
   ]
  },
  {
   "cell_type": "code",
   "execution_count": 89,
   "id": "968804b8",
   "metadata": {},
   "outputs": [
    {
     "data": {
      "text/plain": [
       "'oy era woh ia'"
      ]
     },
     "execution_count": 89,
     "metadata": {},
     "output_type": "execute_result"
    }
   ],
   "source": [
    "string2[-2:-15:-1] \n",
    "#starts=-2,stop=-15+1=-14,di-ve,possible"
   ]
  },
  {
   "cell_type": "code",
   "execution_count": null,
   "id": "19ce5719",
   "metadata": {},
   "outputs": [],
   "source": [
    "string1='string1'\n",
    "string2="
   ]
  },
  {
   "cell_type": "markdown",
   "id": "a86c6f84",
   "metadata": {},
   "source": [
    "# string methods"
   ]
  },
  {
   "cell_type": "code",
   "execution_count": 91,
   "id": "09a42bb8",
   "metadata": {},
   "outputs": [
    {
     "data": {
      "text/plain": [
       "['__add__',\n",
       " '__class__',\n",
       " '__contains__',\n",
       " '__delattr__',\n",
       " '__dir__',\n",
       " '__doc__',\n",
       " '__eq__',\n",
       " '__format__',\n",
       " '__ge__',\n",
       " '__getattribute__',\n",
       " '__getitem__',\n",
       " '__getnewargs__',\n",
       " '__gt__',\n",
       " '__hash__',\n",
       " '__init__',\n",
       " '__init_subclass__',\n",
       " '__iter__',\n",
       " '__le__',\n",
       " '__len__',\n",
       " '__lt__',\n",
       " '__mod__',\n",
       " '__mul__',\n",
       " '__ne__',\n",
       " '__new__',\n",
       " '__reduce__',\n",
       " '__reduce_ex__',\n",
       " '__repr__',\n",
       " '__rmod__',\n",
       " '__rmul__',\n",
       " '__setattr__',\n",
       " '__sizeof__',\n",
       " '__str__',\n",
       " '__subclasshook__',\n",
       " 'capitalize',\n",
       " 'casefold',\n",
       " 'center',\n",
       " 'count',\n",
       " 'encode',\n",
       " 'endswith',\n",
       " 'expandtabs',\n",
       " 'find',\n",
       " 'format',\n",
       " 'format_map',\n",
       " 'index',\n",
       " 'isalnum',\n",
       " 'isalpha',\n",
       " 'isascii',\n",
       " 'isdecimal',\n",
       " 'isdigit',\n",
       " 'isidentifier',\n",
       " 'islower',\n",
       " 'isnumeric',\n",
       " 'isprintable',\n",
       " 'isspace',\n",
       " 'istitle',\n",
       " 'isupper',\n",
       " 'join',\n",
       " 'ljust',\n",
       " 'lower',\n",
       " 'lstrip',\n",
       " 'maketrans',\n",
       " 'partition',\n",
       " 'removeprefix',\n",
       " 'removesuffix',\n",
       " 'replace',\n",
       " 'rfind',\n",
       " 'rindex',\n",
       " 'rjust',\n",
       " 'rpartition',\n",
       " 'rsplit',\n",
       " 'rstrip',\n",
       " 'split',\n",
       " 'splitlines',\n",
       " 'startswith',\n",
       " 'strip',\n",
       " 'swapcase',\n",
       " 'title',\n",
       " 'translate',\n",
       " 'upper',\n",
       " 'zfill']"
      ]
     },
     "execution_count": 91,
     "metadata": {},
     "output_type": "execute_result"
    }
   ],
   "source": [
    "dir('')"
   ]
  },
  {
   "cell_type": "code",
   "execution_count": 92,
   "id": "4f6fd876",
   "metadata": {},
   "outputs": [],
   "source": [
    "string3='tharun'\n"
   ]
  },
  {
   "cell_type": "code",
   "execution_count": 94,
   "id": "b64c7d44",
   "metadata": {},
   "outputs": [
    {
     "data": {
      "text/plain": [
       "'Tharun'"
      ]
     },
     "execution_count": 94,
     "metadata": {},
     "output_type": "execute_result"
    }
   ],
   "source": [
    "#capitalize\n",
    "string3.capitalize()"
   ]
  },
  {
   "cell_type": "code",
   "execution_count": 95,
   "id": "a6bf9f9c",
   "metadata": {},
   "outputs": [
    {
     "data": {
      "text/plain": [
       "'tharun'"
      ]
     },
     "execution_count": 95,
     "metadata": {},
     "output_type": "execute_result"
    }
   ],
   "source": [
    "#lower\n",
    "string3.lower()"
   ]
  },
  {
   "cell_type": "code",
   "execution_count": 97,
   "id": "d4d0d183",
   "metadata": {},
   "outputs": [
    {
     "data": {
      "text/plain": [
       "'THARUN'"
      ]
     },
     "execution_count": 97,
     "metadata": {},
     "output_type": "execute_result"
    }
   ],
   "source": [
    "#upper \n",
    "string3.upper()"
   ]
  },
  {
   "cell_type": "code",
   "execution_count": 98,
   "id": "925b5a1f",
   "metadata": {},
   "outputs": [
    {
     "data": {
      "text/plain": [
       "'tharun'"
      ]
     },
     "execution_count": 98,
     "metadata": {},
     "output_type": "execute_result"
    }
   ],
   "source": [
    "#casefold\n",
    "string3.casefold()"
   ]
  },
  {
   "cell_type": "code",
   "execution_count": 101,
   "id": "62dfb137",
   "metadata": {},
   "outputs": [
    {
     "name": "stdout",
     "output_type": "stream",
     "text": [
      "No Python documentation found for 'tharun'.\n",
      "Use help() to get the interactive help utility.\n",
      "Use help(str) for help on the str class.\n",
      "\n"
     ]
    }
   ],
   "source": [
    "string3='tharun'\n",
    "help(string3.casefold())"
   ]
  },
  {
   "cell_type": "code",
   "execution_count": 104,
   "id": "102e99e2",
   "metadata": {},
   "outputs": [
    {
     "name": "stdout",
     "output_type": "stream",
     "text": [
      "Tharun\n"
     ]
    }
   ],
   "source": [
    "string4='tharun'\n",
    "#output will be 'Tharun' without using string methods\n",
    "#strings are immutable\n",
    "#that time we will use slicing and concatrenation\n",
    "\n",
    "string4='tharun'\n",
    "s1='T'\n",
    "s2=string4[1:]\n",
    "string5=s1+s2\n",
    "print(string5)"
   ]
  },
  {
   "cell_type": "markdown",
   "id": "ba134b61",
   "metadata": {},
   "source": [
    "#strings methods"
   ]
  },
  {
   "cell_type": "code",
   "execution_count": 2,
   "id": "dd901bf6",
   "metadata": {},
   "outputs": [
    {
     "data": {
      "text/plain": [
       "['__add__',\n",
       " '__class__',\n",
       " '__contains__',\n",
       " '__delattr__',\n",
       " '__dir__',\n",
       " '__doc__',\n",
       " '__eq__',\n",
       " '__format__',\n",
       " '__ge__',\n",
       " '__getattribute__',\n",
       " '__getitem__',\n",
       " '__getnewargs__',\n",
       " '__gt__',\n",
       " '__hash__',\n",
       " '__init__',\n",
       " '__init_subclass__',\n",
       " '__iter__',\n",
       " '__le__',\n",
       " '__len__',\n",
       " '__lt__',\n",
       " '__mod__',\n",
       " '__mul__',\n",
       " '__ne__',\n",
       " '__new__',\n",
       " '__reduce__',\n",
       " '__reduce_ex__',\n",
       " '__repr__',\n",
       " '__rmod__',\n",
       " '__rmul__',\n",
       " '__setattr__',\n",
       " '__sizeof__',\n",
       " '__str__',\n",
       " '__subclasshook__',\n",
       " 'capitalize',\n",
       " 'casefold',\n",
       " 'center',\n",
       " 'count',\n",
       " 'encode',\n",
       " 'endswith',\n",
       " 'expandtabs',\n",
       " 'find',\n",
       " 'format',\n",
       " 'format_map',\n",
       " 'index',\n",
       " 'isalnum',\n",
       " 'isalpha',\n",
       " 'isascii',\n",
       " 'isdecimal',\n",
       " 'isdigit',\n",
       " 'isidentifier',\n",
       " 'islower',\n",
       " 'isnumeric',\n",
       " 'isprintable',\n",
       " 'isspace',\n",
       " 'istitle',\n",
       " 'isupper',\n",
       " 'join',\n",
       " 'ljust',\n",
       " 'lower',\n",
       " 'lstrip',\n",
       " 'maketrans',\n",
       " 'partition',\n",
       " 'removeprefix',\n",
       " 'removesuffix',\n",
       " 'replace',\n",
       " 'rfind',\n",
       " 'rindex',\n",
       " 'rjust',\n",
       " 'rpartition',\n",
       " 'rsplit',\n",
       " 'rstrip',\n",
       " 'split',\n",
       " 'splitlines',\n",
       " 'startswith',\n",
       " 'strip',\n",
       " 'swapcase',\n",
       " 'title',\n",
       " 'translate',\n",
       " 'upper',\n",
       " 'zfill']"
      ]
     },
     "execution_count": 2,
     "metadata": {},
     "output_type": "execute_result"
    }
   ],
   "source": [
    "dir('')"
   ]
  },
  {
   "cell_type": "code",
   "execution_count": 8,
   "id": "262ffdb8",
   "metadata": {},
   "outputs": [
    {
     "data": {
      "text/plain": [
       "'Tharun'"
      ]
     },
     "execution_count": 8,
     "metadata": {},
     "output_type": "execute_result"
    }
   ],
   "source": [
    "#capitalize\n",
    "name='tharun'\n",
    "name.capitalize()"
   ]
  },
  {
   "cell_type": "code",
   "execution_count": 9,
   "id": "f566ee20",
   "metadata": {},
   "outputs": [
    {
     "data": {
      "text/plain": [
       "'THARUN'"
      ]
     },
     "execution_count": 9,
     "metadata": {},
     "output_type": "execute_result"
    }
   ],
   "source": [
    "#upper\n",
    "name='tharun'\n",
    "name.upper()"
   ]
  },
  {
   "cell_type": "code",
   "execution_count": 10,
   "id": "08ed9d44",
   "metadata": {},
   "outputs": [
    {
     "data": {
      "text/plain": [
       "'tharun'"
      ]
     },
     "execution_count": 10,
     "metadata": {},
     "output_type": "execute_result"
    }
   ],
   "source": [
    "#lower\n",
    "name='THARUN'\n",
    "name.lower()"
   ]
  },
  {
   "cell_type": "code",
   "execution_count": 11,
   "id": "5a600089",
   "metadata": {},
   "outputs": [
    {
     "data": {
      "text/plain": [
       "'tharun'"
      ]
     },
     "execution_count": 11,
     "metadata": {},
     "output_type": "execute_result"
    }
   ],
   "source": [
    "#casefold\n",
    "name='TharUn'\n",
    "name.casefold()"
   ]
  },
  {
   "cell_type": "code",
   "execution_count": 13,
   "id": "5d9cf97d",
   "metadata": {},
   "outputs": [
    {
     "data": {
      "text/plain": [
       "2"
      ]
     },
     "execution_count": 13,
     "metadata": {},
     "output_type": "execute_result"
    }
   ],
   "source": [
    "string='hai how are u'\n",
    "string.count('h')"
   ]
  },
  {
   "cell_type": "code",
   "execution_count": 14,
   "id": "dde9d4e8",
   "metadata": {},
   "outputs": [
    {
     "name": "stdout",
     "output_type": "stream",
     "text": [
      "1\n",
      "2\n"
     ]
    }
   ],
   "source": [
    "count=0\n",
    "for i in string:\n",
    "    if i=='h':\n",
    "        count=count+1\n",
    "        print(count)\n",
    "    "
   ]
  },
  {
   "cell_type": "code",
   "execution_count": 17,
   "id": "67a7ea24",
   "metadata": {},
   "outputs": [
    {
     "name": "stdout",
     "output_type": "stream",
     "text": [
      "1\n",
      "2\n"
     ]
    }
   ],
   "source": [
    "count=0\n",
    "for i in string.upper():\n",
    "    if i=='H':\n",
    "        count=count+1\n",
    "        print(count)"
   ]
  },
  {
   "cell_type": "code",
   "execution_count": 18,
   "id": "a00e0830",
   "metadata": {},
   "outputs": [
    {
     "name": "stdout",
     "output_type": "stream",
     "text": [
      "1\n",
      "2\n"
     ]
    }
   ],
   "source": [
    "count=0\n",
    "for i in string:\n",
    "    if i.upper()=='H':\n",
    "        count=count+1\n",
    "        print(count)"
   ]
  },
  {
   "cell_type": "code",
   "execution_count": 26,
   "id": "b59212dc",
   "metadata": {},
   "outputs": [
    {
     "name": "stdout",
     "output_type": "stream",
     "text": [
      "mOBIn 2 aRE\n"
     ]
    }
   ],
   "source": [
    "s_in='MobiN 2 Are'\n",
    "s_out=''\n",
    "for i in s_in:\n",
    "    if i.isupper()==True:\n",
    "        s_out+=i.lower()\n",
    "    else:\n",
    "        s_out+=i.upper()\n",
    "print(s_out)"
   ]
  },
  {
   "cell_type": "code",
   "execution_count": 24,
   "id": "14423ee5",
   "metadata": {},
   "outputs": [
    {
     "data": {
      "text/plain": [
       "'MOBIN 2 ARE'"
      ]
     },
     "execution_count": 24,
     "metadata": {},
     "output_type": "execute_result"
    }
   ],
   "source": [
    "s='MobiN 2 Are'\n",
    "s1=''\n",
    "s1+=s.upper()\n",
    "s1"
   ]
  },
  {
   "cell_type": "code",
   "execution_count": 25,
   "id": "a36dac9c",
   "metadata": {},
   "outputs": [
    {
     "data": {
      "text/plain": [
       "False"
      ]
     },
     "execution_count": 25,
     "metadata": {},
     "output_type": "execute_result"
    }
   ],
   "source": [
    "s.isupper()"
   ]
  },
  {
   "cell_type": "code",
   "execution_count": null,
   "id": "66384fab",
   "metadata": {},
   "outputs": [],
   "source": [
    "mWM"
   ]
  },
  {
   "cell_type": "code",
   "execution_count": 28,
   "id": "3d91db73",
   "metadata": {},
   "outputs": [
    {
     "data": {
      "text/plain": [
       "19"
      ]
     },
     "execution_count": 28,
     "metadata": {},
     "output_type": "execute_result"
    }
   ],
   "source": [
    "string1='ola ola ola ola ola'\n",
    "len(string1)"
   ]
  },
  {
   "cell_type": "code",
   "execution_count": 29,
   "id": "740c37bf",
   "metadata": {},
   "outputs": [
    {
     "data": {
      "text/plain": [
       "5"
      ]
     },
     "execution_count": 29,
     "metadata": {},
     "output_type": "execute_result"
    }
   ],
   "source": [
    "#i want to know the how many 'a' are after the 4th index 'a'\n",
    "string1.count('a')\n",
    "#total a---5"
   ]
  },
  {
   "cell_type": "code",
   "execution_count": 35,
   "id": "6c645555",
   "metadata": {},
   "outputs": [
    {
     "data": {
      "text/plain": [
       "1"
      ]
     },
     "execution_count": 35,
     "metadata": {},
     "output_type": "execute_result"
    }
   ],
   "source": [
    "string1.count('a',4)#how many 'a' are after the 4th index\n",
    "string1.count('a',4,9)#how many 'a' are between the 4th index to 8 th index"
   ]
  },
  {
   "cell_type": "code",
   "execution_count": null,
   "id": "280e7f92",
   "metadata": {},
   "outputs": [],
   "source": [
    "string1='tharun bhvh'"
   ]
  }
 ],
 "metadata": {
  "kernelspec": {
   "display_name": "Python 3 (ipykernel)",
   "language": "python",
   "name": "python3"
  },
  "language_info": {
   "codemirror_mode": {
    "name": "ipython",
    "version": 3
   },
   "file_extension": ".py",
   "mimetype": "text/x-python",
   "name": "python",
   "nbconvert_exporter": "python",
   "pygments_lexer": "ipython3",
   "version": "3.9.13"
  }
 },
 "nbformat": 4,
 "nbformat_minor": 5
}
