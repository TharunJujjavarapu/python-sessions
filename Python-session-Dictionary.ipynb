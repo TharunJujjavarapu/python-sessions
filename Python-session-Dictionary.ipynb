{
 "cells": [
  {
   "cell_type": "code",
   "execution_count": null,
   "id": "3ae82d3f",
   "metadata": {},
   "outputs": [],
   "source": [
    "- Strings\n",
    "\n",
    "- List\n",
    "\n",
    "- Dictionary\n",
    "\n",
    "- tuple/set\n",
    "\n",
    "- lambda functions\n",
    "\n",
    "- file handling "
   ]
  },
  {
   "cell_type": "markdown",
   "id": "3d4e7a09",
   "metadata": {},
   "source": [
    "$Dictionary$"
   ]
  },
  {
   "cell_type": "code",
   "execution_count": 2,
   "id": "2820c908",
   "metadata": {},
   "outputs": [
    {
     "name": "stdout",
     "output_type": "stream",
     "text": [
      "Ram 25\n",
      "Raheem 30\n",
      "Robert 35\n"
     ]
    }
   ],
   "source": [
    "names=['Ram','Raheem','Robert']\n",
    "ages=[25,30,35]\n",
    "\n",
    "# the ram age is 25\n",
    "# The Raheem age is 30\n",
    "\n",
    "for i,j in zip(names,ages):\n",
    "    print(i,j)"
   ]
  },
  {
   "cell_type": "code",
   "execution_count": 3,
   "id": "1097c3aa",
   "metadata": {},
   "outputs": [],
   "source": [
    "string1='python'\n",
    "list1=[1,'A',10.5]"
   ]
  },
  {
   "cell_type": "markdown",
   "id": "5c9c4351",
   "metadata": {},
   "source": [
    "**key-value** pair conecpt"
   ]
  },
  {
   "cell_type": "markdown",
   "id": "95324959",
   "metadata": {},
   "source": [
    "{key:value}"
   ]
  },
  {
   "cell_type": "code",
   "execution_count": 9,
   "id": "431aff0b",
   "metadata": {},
   "outputs": [
    {
     "data": {
      "text/plain": [
       "{'zam': 25, 'Raheem': 30, 'Robert': 35}"
      ]
     },
     "execution_count": 9,
     "metadata": {},
     "output_type": "execute_result"
    }
   ],
   "source": [
    "dict1={'zam':25,'Raheem':30,'Robert':35}\n",
    "dict1"
   ]
  },
  {
   "cell_type": "markdown",
   "id": "dbe1d966",
   "metadata": {},
   "source": [
    "- type\n",
    "\n",
    "- len\n",
    "\n",
    "- max\n",
    "\n",
    "- min"
   ]
  },
  {
   "cell_type": "code",
   "execution_count": 6,
   "id": "fb5fd4a1",
   "metadata": {},
   "outputs": [
    {
     "data": {
      "text/plain": [
       "dict"
      ]
     },
     "execution_count": 6,
     "metadata": {},
     "output_type": "execute_result"
    }
   ],
   "source": [
    "type(dict1)   "
   ]
  },
  {
   "cell_type": "code",
   "execution_count": 7,
   "id": "027d2432",
   "metadata": {},
   "outputs": [
    {
     "data": {
      "text/plain": [
       "3"
      ]
     },
     "execution_count": 7,
     "metadata": {},
     "output_type": "execute_result"
    }
   ],
   "source": [
    "len(dict1)"
   ]
  },
  {
   "cell_type": "code",
   "execution_count": 10,
   "id": "04ba1ef8",
   "metadata": {},
   "outputs": [
    {
     "data": {
      "text/plain": [
       "'zam'"
      ]
     },
     "execution_count": 10,
     "metadata": {},
     "output_type": "execute_result"
    }
   ],
   "source": [
    "max(dict1)  # on which "
   ]
  },
  {
   "cell_type": "code",
   "execution_count": 11,
   "id": "0f0f722c",
   "metadata": {},
   "outputs": [
    {
     "data": {
      "text/plain": [
       "'Raheem'"
      ]
     },
     "execution_count": 11,
     "metadata": {},
     "output_type": "execute_result"
    }
   ],
   "source": [
    "min(dict1)"
   ]
  },
  {
   "cell_type": "markdown",
   "id": "0fd5823e",
   "metadata": {},
   "source": [
    "- max values and min values based on keys only"
   ]
  },
  {
   "cell_type": "code",
   "execution_count": 22,
   "id": "f20fa8ce",
   "metadata": {},
   "outputs": [
    {
     "data": {
      "text/plain": [
       "[{'like': ['Apple', 'Cherry']}]"
      ]
     },
     "execution_count": 22,
     "metadata": {},
     "output_type": "execute_result"
    }
   ],
   "source": [
    "d1={'Ram':25,'Raheem':30,'Robert':35}\n",
    "d2={'names':['Ram','Raheem','Robert'],\n",
    "   'ages':[25,30,35]}\n",
    "\n",
    "d3={25:'Ram'}\n",
    "#d4={['Ram','Raheem','Robert']:'names'} # fail\n",
    "d5={25:35}\n",
    "d6={'A':'Apple',\n",
    "    'B':10.5,\n",
    "    'C':10+5j,\n",
    "    12:['A','B','C']}  # works\n",
    "\n",
    "d7= {'Fruits':{'like':['Apple','Cherry']}}  # json file types \n",
    "\n",
    "list1=[{'like':['Apple','Cherry']}]\n",
    "list1"
   ]
  },
  {
   "cell_type": "markdown",
   "id": "73406675",
   "metadata": {},
   "source": [
    "- If you provide multiple values at key postition it will fail"
   ]
  },
  {
   "cell_type": "code",
   "execution_count": 26,
   "id": "4c93d4c2",
   "metadata": {},
   "outputs": [
    {
     "data": {
      "text/plain": [
       "{'Mobin': 'AMAZON'}"
      ]
     },
     "execution_count": 26,
     "metadata": {},
     "output_type": "execute_result"
    }
   ],
   "source": [
    "d8={'Mobin':'Amazon','Mobin':'AMAZON'}\n",
    "d8"
   ]
  },
  {
   "cell_type": "markdown",
   "id": "61556405",
   "metadata": {},
   "source": [
    "- Duplicates are not allowed"
   ]
  },
  {
   "cell_type": "code",
   "execution_count": 24,
   "id": "152d7907",
   "metadata": {},
   "outputs": [
    {
     "data": {
      "text/plain": [
       "{'Ravi': 35}"
      ]
     },
     "execution_count": 24,
     "metadata": {},
     "output_type": "execute_result"
    }
   ],
   "source": [
    "d9={'Ravi':25,'Ravi':35}\n",
    "d9"
   ]
  },
  {
   "cell_type": "markdown",
   "id": "5ee67608",
   "metadata": {},
   "source": [
    "- If keys are same the last value will taken"
   ]
  },
  {
   "cell_type": "code",
   "execution_count": 27,
   "id": "e362dbc2",
   "metadata": {},
   "outputs": [
    {
     "data": {
      "text/plain": [
       "{'zam': 25, 'Raheem': 30, 'Robert': 35}"
      ]
     },
     "execution_count": 27,
     "metadata": {},
     "output_type": "execute_result"
    }
   ],
   "source": [
    "dict1"
   ]
  },
  {
   "cell_type": "code",
   "execution_count": 32,
   "id": "ac1c734f",
   "metadata": {},
   "outputs": [
    {
     "data": {
      "text/plain": [
       "True"
      ]
     },
     "execution_count": 32,
     "metadata": {},
     "output_type": "execute_result"
    }
   ],
   "source": [
    "'zam' in dict1    #'zam':25  in dict1\n",
    "'Raheem' in dict1\n",
    "'Robert' in dict1\n",
    "\n",
    "#i in dict1"
   ]
  },
  {
   "cell_type": "code",
   "execution_count": 33,
   "id": "2295094c",
   "metadata": {},
   "outputs": [
    {
     "name": "stdout",
     "output_type": "stream",
     "text": [
      "zam\n",
      "Raheem\n",
      "Robert\n"
     ]
    }
   ],
   "source": [
    "for i in dict1:\n",
    "    print(i)\n",
    "    \n",
    "# Very important"
   ]
  },
  {
   "cell_type": "markdown",
   "id": "c40a69ad",
   "metadata": {},
   "source": [
    "$index$"
   ]
  },
  {
   "cell_type": "markdown",
   "id": "e1415e1b",
   "metadata": {},
   "source": [
    "- dictionary values retrive based on keys only"
   ]
  },
  {
   "cell_type": "code",
   "execution_count": 34,
   "id": "d8a321f0",
   "metadata": {},
   "outputs": [
    {
     "data": {
      "text/plain": [
       "{'zam': 25, 'Raheem': 30, 'Robert': 35}"
      ]
     },
     "execution_count": 34,
     "metadata": {},
     "output_type": "execute_result"
    }
   ],
   "source": [
    "dict1"
   ]
  },
  {
   "cell_type": "code",
   "execution_count": 35,
   "id": "60f699f6",
   "metadata": {},
   "outputs": [
    {
     "ename": "KeyError",
     "evalue": "0",
     "output_type": "error",
     "traceback": [
      "\u001b[1;31m---------------------------------------------------------------------------\u001b[0m",
      "\u001b[1;31mKeyError\u001b[0m                                  Traceback (most recent call last)",
      "Cell \u001b[1;32mIn[35], line 1\u001b[0m\n\u001b[1;32m----> 1\u001b[0m dict1[\u001b[38;5;241m0\u001b[39m]\n",
      "\u001b[1;31mKeyError\u001b[0m: 0"
     ]
    }
   ],
   "source": [
    "dict1[0]  # with index will fail"
   ]
  },
  {
   "cell_type": "code",
   "execution_count": 40,
   "id": "3762cd92",
   "metadata": {},
   "outputs": [
    {
     "data": {
      "text/plain": [
       "(25, 30, 35)"
      ]
     },
     "execution_count": 40,
     "metadata": {},
     "output_type": "execute_result"
    }
   ],
   "source": [
    "dict1['zam'],dict1['Raheem'],dict1['Robert']"
   ]
  },
  {
   "cell_type": "code",
   "execution_count": null,
   "id": "b7c8d1e3",
   "metadata": {},
   "outputs": [],
   "source": [
    "1.Is one key will allow multiple values. # have you missed the class\n",
    "2.How can we retrieve the particular value from dictionary. # will do this"
   ]
  },
  {
   "cell_type": "code",
   "execution_count": 43,
   "id": "15ff365e",
   "metadata": {},
   "outputs": [
    {
     "name": "stdout",
     "output_type": "stream",
     "text": [
      "zam 25\n",
      "Raheem 30\n",
      "Robert 35\n"
     ]
    }
   ],
   "source": [
    "# WAP by using for loop get the values\n",
    "# if you iterate normally only keys are coming\n",
    "\n",
    "for i in dict1:\n",
    "    print(i,dict1[i])"
   ]
  },
  {
   "cell_type": "code",
   "execution_count": 36,
   "id": "2190a86a",
   "metadata": {},
   "outputs": [
    {
     "data": {
      "text/plain": [
       "'p'"
      ]
     },
     "execution_count": 36,
     "metadata": {},
     "output_type": "execute_result"
    }
   ],
   "source": [
    "str1='python'\n",
    "str1[0]"
   ]
  },
  {
   "cell_type": "code",
   "execution_count": 37,
   "id": "fd111d79",
   "metadata": {},
   "outputs": [
    {
     "data": {
      "text/plain": [
       "1"
      ]
     },
     "execution_count": 37,
     "metadata": {},
     "output_type": "execute_result"
    }
   ],
   "source": [
    "list1=[1,2,3]\n",
    "list1[0]"
   ]
  },
  {
   "cell_type": "code",
   "execution_count": 41,
   "id": "b74a5137",
   "metadata": {},
   "outputs": [
    {
     "data": {
      "text/plain": [
       "(20, 30)"
      ]
     },
     "execution_count": 41,
     "metadata": {},
     "output_type": "execute_result"
    }
   ],
   "source": [
    "number=20,30\n",
    "number\n",
    "\n",
    "# this we discussed in function"
   ]
  },
  {
   "cell_type": "code",
   "execution_count": 54,
   "id": "6e140d69",
   "metadata": {},
   "outputs": [
    {
     "name": "stdout",
     "output_type": "stream",
     "text": [
      "Ram 25\n",
      "Raheem 30\n",
      "Robert 35\n"
     ]
    }
   ],
   "source": [
    "d2={'names':['Ram','Raheem','Robert'],\n",
    "   'ages':[25,30,35]}\n",
    "\n",
    "d2['names'][0],d2['ages'][0]\n",
    "d2['names'][1],d2['ages'][1]\n",
    "d2['names'][2],d2['ages'][2]\n",
    "\n",
    "for i in range(3):\n",
    "    print(d2['names'][i],d2['ages'][i])"
   ]
  },
  {
   "cell_type": "code",
   "execution_count": 60,
   "id": "7de10603",
   "metadata": {},
   "outputs": [
    {
     "data": {
      "text/plain": [
       "'python'"
      ]
     },
     "execution_count": 60,
     "metadata": {},
     "output_type": "execute_result"
    }
   ],
   "source": [
    "d1={'hello':{'hello':{'hello':{'hello':'python'}}}}\n",
    "d1['hello']['hello']['hello']['hello']\n",
    "\n",
    "# retrive python"
   ]
  },
  {
   "cell_type": "code",
   "execution_count": 74,
   "id": "b68b42cc",
   "metadata": {},
   "outputs": [
    {
     "data": {
      "text/plain": [
       "'cherry'"
      ]
     },
     "execution_count": 74,
     "metadata": {},
     "output_type": "execute_result"
    }
   ],
   "source": [
    "d2={'hello':[{'fruits':['Apple','banana',\n",
    "                        {'like':['cherry']\n",
    "                        }\n",
    "                       ]\n",
    "             }\n",
    "            ]\n",
    "   }\n",
    "\n",
    "d2['hello'][0]['fruits'][2]['like'][0]"
   ]
  },
  {
   "cell_type": "code",
   "execution_count": null,
   "id": "25307dbb",
   "metadata": {},
   "outputs": [],
   "source": [
    "# How to create a emapty dictionary"
   ]
  },
  {
   "cell_type": "code",
   "execution_count": 75,
   "id": "3ba387e0",
   "metadata": {},
   "outputs": [],
   "source": [
    "dict1={}\n",
    "\n",
    "list1=[]\n",
    "\n",
    "string1=''"
   ]
  },
  {
   "cell_type": "code",
   "execution_count": 76,
   "id": "32d934d3",
   "metadata": {},
   "outputs": [
    {
     "data": {
      "text/plain": [
       "{'Nareshit': ['DS', 'MLOPS', 'DE']}"
      ]
     },
     "execution_count": 76,
     "metadata": {},
     "output_type": "execute_result"
    }
   ],
   "source": [
    "dict1['Nareshit']=['DS','MLOPS','DE']\n",
    "dict1"
   ]
  },
  {
   "cell_type": "code",
   "execution_count": 77,
   "id": "327a453d",
   "metadata": {},
   "outputs": [
    {
     "data": {
      "text/plain": [
       "{'Nareshit': ['DS', 'MLOPS', 'DE'], 'India': 'in semis'}"
      ]
     },
     "execution_count": 77,
     "metadata": {},
     "output_type": "execute_result"
    }
   ],
   "source": [
    "dict1['India']='in semis'\n",
    "dict1"
   ]
  },
  {
   "cell_type": "code",
   "execution_count": 78,
   "id": "c55703f8",
   "metadata": {},
   "outputs": [
    {
     "data": {
      "text/plain": [
       "{'Apple': 'fruit', 'Car': 'vehicle'}"
      ]
     },
     "execution_count": 78,
     "metadata": {},
     "output_type": "execute_result"
    }
   ],
   "source": [
    "dict2={}\n",
    "dict2['Apple']='fruit'\n",
    "dict2['Car']='vehicle'\n",
    "dict2"
   ]
  },
  {
   "cell_type": "code",
   "execution_count": null,
   "id": "38a26649",
   "metadata": {},
   "outputs": [],
   "source": [
    "#wap ask the user get 5 random numbers between 10 to 100\n",
    "# and perform even and odd operation\n",
    "\n",
    "# output: {'even':[10,12,14],'odd':[11,13]}\n",
    "\n",
    "\n",
    "# step-1: take empty dictionary\n",
    "# step-2: take two empty list\n",
    "# step-3: import random package\n",
    "# step-4: iterate for loop 5 tims\n",
    "# step-5: ask everytime get a random number\n",
    "# step-6: if condition\n",
    "# step-7:    append the values\n",
    "# step-8: else condtion\n",
    "# step-9:    append the values\n",
    "# step-10:  you know howto create the dictionary"
   ]
  },
  {
   "cell_type": "code",
   "execution_count": 80,
   "id": "2562ea8c",
   "metadata": {},
   "outputs": [
    {
     "data": {
      "text/plain": [
       "{'even': [28, 82, 94, 16], 'odd': [93]}"
      ]
     },
     "execution_count": 80,
     "metadata": {},
     "output_type": "execute_result"
    }
   ],
   "source": [
    "dict3={}\n",
    "list1=[]\n",
    "list2=[]\n",
    "import random\n",
    "for i in range (5):\n",
    "    num=random.randint(1,100)\n",
    "    if num%2==0:\n",
    "        list1.append(num)\n",
    "    else:\n",
    "        list2.append(num)\n",
    "dict3['even']=list1\n",
    "dict3['odd']=list2\n",
    "dict3"
   ]
  },
  {
   "cell_type": "code",
   "execution_count": null,
   "id": "d65495f2",
   "metadata": {},
   "outputs": [],
   "source": []
  }
 ],
 "metadata": {
  "kernelspec": {
   "display_name": "Python 3 (ipykernel)",
   "language": "python",
   "name": "python3"
  },
  "language_info": {
   "codemirror_mode": {
    "name": "ipython",
    "version": 3
   },
   "file_extension": ".py",
   "mimetype": "text/x-python",
   "name": "python",
   "nbconvert_exporter": "python",
   "pygments_lexer": "ipython3",
   "version": "3.9.13"
  }
 },
 "nbformat": 4,
 "nbformat_minor": 5
}
