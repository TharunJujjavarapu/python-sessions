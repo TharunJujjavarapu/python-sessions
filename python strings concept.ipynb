{
 "cells": [
  {
   "cell_type": "markdown",
   "id": "0ea2d905",
   "metadata": {},
   "source": [
    "#                                  Python Strings"
   ]
  },
  {
   "cell_type": "markdown",
   "id": "bc506ee8",
   "metadata": {},
   "source": [
    "# What is a string in python?\n",
    "A string is a sequence of characters.In python,strings start and end with single or double quotes.Python does not have a character data type, a single character is simply a string with a length of 1.\n",
    "For Example,\n",
    "'python', \"py\", 'p'"
   ]
  },
  {
   "cell_type": "markdown",
   "id": "993de96c",
   "metadata": {},
   "source": [
    "# Creating a string in python?\n",
    "1.Strings in Python can be created using single quotes or double quotes or even triple quotes.\n",
    "2.Creating strings is as simple as assigning a value to a variable.\n",
    "for example,"
   ]
  },
  {
   "cell_type": "code",
   "execution_count": 3,
   "id": "18f38b45",
   "metadata": {},
   "outputs": [
    {
     "data": {
      "text/plain": [
       "str"
      ]
     },
     "execution_count": 3,
     "metadata": {},
     "output_type": "execute_result"
    }
   ],
   "source": [
    "name='python'\n",
    "type(name)\n",
    "# string data type is represented as str"
   ]
  },
  {
   "cell_type": "code",
   "execution_count": 5,
   "id": "325e2754",
   "metadata": {},
   "outputs": [
    {
     "name": "stdout",
     "output_type": "stream",
     "text": [
      "python\n",
      "Hii how are you\n"
     ]
    }
   ],
   "source": [
    "string1='python'#single quotes\n",
    "print(string1)\n",
    "string2=\"Hii how are you\"#double quotes\n",
    "print(string2)\n"
   ]
  },
  {
   "cell_type": "code",
   "execution_count": 7,
   "id": "27d8b89b",
   "metadata": {},
   "outputs": [
    {
     "data": {
      "text/plain": [
       "'\"hi how are you\\n        im good\\n        im learning python'"
      ]
     },
     "execution_count": 7,
     "metadata": {},
     "output_type": "execute_result"
    }
   ],
   "source": [
    "#doc string:'triple quotes'\n",
    "string3=\"\"\"\"hi how are you\n",
    "        im good\n",
    "        im learning python\"\"\"\n",
    "string3"
   ]
  },
  {
   "cell_type": "markdown",
   "id": "dc965a50",
   "metadata": {},
   "source": [
    "triple quotes is means doc string\n",
    "\n",
    "it is an informatiom about the code"
   ]
  },
  {
   "cell_type": "code",
   "execution_count": 17,
   "id": "8e66151d",
   "metadata": {},
   "outputs": [
    {
     "name": "stdout",
     "output_type": "stream",
     "text": [
      "enter a num3\n",
      "it is odd\n"
     ]
    }
   ],
   "source": [
    "#example of triple quotes\n",
    "\"\"\"\n",
    "this program about infinite while loop\n",
    "the original password='python'\n",
    "function:\n",
    "      arguments: None\n",
    "      return: None\n",
    "\"\"\"\n",
    "def even_odd():\n",
    "    num=eval(input(\"enter a num\"))\n",
    "    if num%2==0:\n",
    "        print(\"it is a even number\")\n",
    "    else:\n",
    "        print(\"it is odd\")\n",
    "        \n",
    "even_odd()"
   ]
  },
  {
   "cell_type": "code",
   "execution_count": 18,
   "id": "bab3bb04",
   "metadata": {},
   "outputs": [
    {
     "name": "stdout",
     "output_type": "stream",
     "text": [
      "hello 'python'\n",
      "hello \"python\"\n"
     ]
    }
   ],
   "source": [
    "#entire string will be in double quotes, the highlited string in single quotes\n",
    "print(\"hello 'python'\")\n",
    "#entire string will be in single quotes, the highlited string in double quotes\n",
    "print('hello \"python\"')"
   ]
  },
  {
   "cell_type": "code",
   "execution_count": 20,
   "id": "b1647133",
   "metadata": {},
   "outputs": [
    {
     "data": {
      "text/plain": [
       "'python'"
      ]
     },
     "execution_count": 20,
     "metadata": {},
     "output_type": "execute_result"
    }
   ],
   "source": [
    "string1='python'\n",
    "string2=string1 # 'python'\n",
    "string3='hello' # 'hello'\n",
    "string4=string3 # 'hello'\n",
    "string4=string1 # 'python'\n",
    "string4=string2 # 'python'\n",
    "string5=string4 #'python'\n",
    "string5#the final value is stored in string5 is output"
   ]
  },
  {
   "cell_type": "markdown",
   "id": "f6f3bf0f",
   "metadata": {},
   "source": [
    "* type\n",
    "* len\n",
    "* max\n",
    "* min"
   ]
  },
  {
   "cell_type": "code",
   "execution_count": 21,
   "id": "a959cb0f",
   "metadata": {},
   "outputs": [
    {
     "data": {
      "text/plain": [
       "str"
      ]
     },
     "execution_count": 21,
     "metadata": {},
     "output_type": "execute_result"
    }
   ],
   "source": [
    "string1='python'\n",
    "type(string1)"
   ]
  },
  {
   "cell_type": "code",
   "execution_count": 26,
   "id": "0ac762a1",
   "metadata": {},
   "outputs": [
    {
     "name": "stdout",
     "output_type": "stream",
     "text": [
      "6\n",
      "y\n",
      "h\n",
      "p 112\n",
      "y 121\n",
      "t 116\n",
      "h 104\n",
      "o 111\n",
      "n 110\n"
     ]
    }
   ],
   "source": [
    "print(len(string1))\n",
    "print(max(string1))\n",
    "print(min(string1))\n",
    "\n",
    "\n",
    "for i in string1:\n",
    "    print(i,ord(i))\n",
    "#based on ascii values y=max, h=min"
   ]
  },
  {
   "cell_type": "markdown",
   "id": "e5f2e501",
   "metadata": {},
   "source": [
    "# string concatenation\n",
    "String Concatenation is the technique of combining two strings.It’s very easy to use the + operator for string concatenation. This operator can be used to add multiple strings together. However, the arguments must be a string."
   ]
  },
  {
   "cell_type": "code",
   "execution_count": 27,
   "id": "ba46e5aa",
   "metadata": {},
   "outputs": [
    {
     "data": {
      "text/plain": [
       "'hellopython'"
      ]
     },
     "execution_count": 27,
     "metadata": {},
     "output_type": "execute_result"
    }
   ],
   "source": [
    "string1='hello'\n",
    "string2='python'\n",
    "string1+string2#concatenation"
   ]
  },
  {
   "cell_type": "code",
   "execution_count": 28,
   "id": "73a79f6e",
   "metadata": {},
   "outputs": [
    {
     "ename": "TypeError",
     "evalue": "unsupported operand type(s) for -: 'str' and 'str'",
     "output_type": "error",
     "traceback": [
      "\u001b[1;31m---------------------------------------------------------------------------\u001b[0m",
      "\u001b[1;31mTypeError\u001b[0m                                 Traceback (most recent call last)",
      "\u001b[1;32m~\\AppData\\Local\\Temp\\ipykernel_5316\\4214249884.py\u001b[0m in \u001b[0;36m<module>\u001b[1;34m\u001b[0m\n\u001b[1;32m----> 1\u001b[1;33m \u001b[0mstring1\u001b[0m\u001b[1;33m-\u001b[0m\u001b[0mstring2\u001b[0m\u001b[1;33m\u001b[0m\u001b[1;33m\u001b[0m\u001b[0m\n\u001b[0m",
      "\u001b[1;31mTypeError\u001b[0m: unsupported operand type(s) for -: 'str' and 'str'"
     ]
    }
   ],
   "source": [
    "string1-string2\n",
    "# i can not do subtraction between two strings"
   ]
  },
  {
   "cell_type": "code",
   "execution_count": 29,
   "id": "b6d056ee",
   "metadata": {},
   "outputs": [
    {
     "ename": "TypeError",
     "evalue": "unsupported operand type(s) for /: 'str' and 'str'",
     "output_type": "error",
     "traceback": [
      "\u001b[1;31m---------------------------------------------------------------------------\u001b[0m",
      "\u001b[1;31mTypeError\u001b[0m                                 Traceback (most recent call last)",
      "\u001b[1;32m~\\AppData\\Local\\Temp\\ipykernel_5316\\1237735638.py\u001b[0m in \u001b[0;36m<module>\u001b[1;34m\u001b[0m\n\u001b[1;32m----> 1\u001b[1;33m \u001b[0mstring1\u001b[0m\u001b[1;33m/\u001b[0m\u001b[0mstring2\u001b[0m\u001b[1;33m\u001b[0m\u001b[1;33m\u001b[0m\u001b[0m\n\u001b[0m",
      "\u001b[1;31mTypeError\u001b[0m: unsupported operand type(s) for /: 'str' and 'str'"
     ]
    }
   ],
   "source": [
    "string1/string2\n",
    "# i can not do division between two strings"
   ]
  },
  {
   "cell_type": "code",
   "execution_count": 30,
   "id": "57655177",
   "metadata": {},
   "outputs": [
    {
     "ename": "TypeError",
     "evalue": "can't multiply sequence by non-int of type 'str'",
     "output_type": "error",
     "traceback": [
      "\u001b[1;31m---------------------------------------------------------------------------\u001b[0m",
      "\u001b[1;31mTypeError\u001b[0m                                 Traceback (most recent call last)",
      "\u001b[1;32m~\\AppData\\Local\\Temp\\ipykernel_5316\\1696557578.py\u001b[0m in \u001b[0;36m<module>\u001b[1;34m\u001b[0m\n\u001b[1;32m----> 1\u001b[1;33m \u001b[0mstring1\u001b[0m\u001b[1;33m*\u001b[0m\u001b[0mstring3\u001b[0m\u001b[1;33m\u001b[0m\u001b[1;33m\u001b[0m\u001b[0m\n\u001b[0m",
      "\u001b[1;31mTypeError\u001b[0m: can't multiply sequence by non-int of type 'str'"
     ]
    }
   ],
   "source": [
    "string1*string3\n",
    "# i can do multiplication between two strings but we use integer value to do multliplication"
   ]
  },
  {
   "cell_type": "code",
   "execution_count": 32,
   "id": "afa68868",
   "metadata": {},
   "outputs": [
    {
     "data": {
      "text/plain": [
       "'hellohellohellopython'"
      ]
     },
     "execution_count": 32,
     "metadata": {},
     "output_type": "execute_result"
    }
   ],
   "source": [
    "3*string1+string2\n",
    "#it means string1+string1+string1=3*string1"
   ]
  },
  {
   "cell_type": "markdown",
   "id": "1adc9f68",
   "metadata": {},
   "source": [
    "# indexing\n",
    "Indexing is the process of accessing an element in a sequence using its position in the sequence (its index).\n",
    "\n",
    "In Python, indexing starts from 0, which means the first element in a sequence is at position 0, the second element is at position 1, and so on.\n",
    "\n",
    "To access an element in a sequence, you can use square brackets [] with the index of the element you want to access."
   ]
  },
  {
   "cell_type": "code",
   "execution_count": 33,
   "id": "fb92cb48",
   "metadata": {},
   "outputs": [],
   "source": [
    "name='python'"
   ]
  },
  {
   "cell_type": "code",
   "execution_count": 35,
   "id": "bd260bc7",
   "metadata": {},
   "outputs": [],
   "source": [
    "# how many letters are there: 6\n",
    "# python index start with :0\n",
    "\n",
    "p   y    t    h    o    n\n",
    "0   1    2    3    4    5"
   ]
  },
  {
   "cell_type": "code",
   "execution_count": 37,
   "id": "ff44aff5",
   "metadata": {},
   "outputs": [
    {
     "data": {
      "text/plain": [
       "('p', 'y')"
      ]
     },
     "execution_count": 37,
     "metadata": {},
     "output_type": "execute_result"
    }
   ],
   "source": [
    "name[0],name[1]"
   ]
  },
  {
   "cell_type": "raw",
   "id": "01dbd439",
   "metadata": {},
   "source": [
    "name[0]    #  'p'\n",
    "name[1]    #  'y'\n",
    "name[2]    #  't'\n",
    "name[3]    # 'h'\n",
    "name[4]    #  'o'\n",
    "name[5]    # 'n'\n",
    "\n",
    "name[i]"
   ]
  },
  {
   "cell_type": "code",
   "execution_count": 40,
   "id": "4d20fbdd",
   "metadata": {},
   "outputs": [
    {
     "name": "stdout",
     "output_type": "stream",
     "text": [
      "p\n",
      "y\n",
      "t\n",
      "h\n",
      "o\n",
      "n\n"
     ]
    }
   ],
   "source": [
    "# how to print any word/sentence by using range method\n",
    "for i in range(6):\n",
    "    print(name[i])"
   ]
  },
  {
   "cell_type": "code",
   "execution_count": 41,
   "id": "215125b5",
   "metadata": {},
   "outputs": [
    {
     "name": "stdout",
     "output_type": "stream",
     "text": [
      "17\n",
      "h e l l o   h o w   a r e   y o u "
     ]
    }
   ],
   "source": [
    "name1='hello how are you'\n",
    "# spaces also consider one character\n",
    "print(len(name1))\n",
    "# i need to provide some number\n",
    "for i in range(len(name1)):\n",
    "    print(name1[i],end=' ')#i=len(name1)=17 i.e numbers, but we want letters name1[i]='hello how are you' by use index method."
   ]
  },
  {
   "cell_type": "code",
   "execution_count": 42,
   "id": "325d6be4",
   "metadata": {},
   "outputs": [
    {
     "name": "stdout",
     "output_type": "stream",
     "text": [
      "the index of p is 0\n",
      "the index of y is 1\n",
      "the index of t is 2\n",
      "the index of h is 3\n",
      "the index of o is 4\n",
      "the index of n is 5\n"
     ]
    }
   ],
   "source": [
    "# wap ask the user print the letters from a given word \n",
    "# using for loop\n",
    "# 'the index of p is:0'\n",
    "# 'the index of y is:1'\n",
    "\n",
    "# i want letter as well as attached index number\n",
    "\n",
    "name2='python'\n",
    "for i in range(len(name2)):\n",
    "    print('the index of {} is {}'.format(name2[i],i))"
   ]
  },
  {
   "cell_type": "code",
   "execution_count": 43,
   "id": "e00a4f26",
   "metadata": {},
   "outputs": [
    {
     "name": "stdout",
     "output_type": "stream",
     "text": [
      "the index of p is 0\n",
      "the index of y is 1\n",
      "the index of t is 2\n",
      "the index of h is 3\n",
      "the index of o is 4\n",
      "the index of n is 5\n"
     ]
    }
   ],
   "source": [
    "# same code using while loop\n",
    "i=0\n",
    "while i<(len(name2)):\n",
    "    print('the index of {} is {}'.format(name2[i],i))\n",
    "    i=i+1"
   ]
  },
  {
   "cell_type": "raw",
   "id": "d37d4e19",
   "metadata": {},
   "source": [
    "\n",
    "-6 -5 -4 -3 -2 -1 ------------>negative index\n",
    " p  y  t  h  o  n\n",
    " 0  1  2  3  4  5 ------------->positive index"
   ]
  },
  {
   "cell_type": "code",
   "execution_count": 47,
   "id": "11975efd",
   "metadata": {},
   "outputs": [
    {
     "data": {
      "text/plain": [
       "'p'"
      ]
     },
     "execution_count": 47,
     "metadata": {},
     "output_type": "execute_result"
    }
   ],
   "source": [
    "name2='python'\n",
    "name2[-6]#-6 is negative index number"
   ]
  },
  {
   "cell_type": "code",
   "execution_count": 51,
   "id": "2f4f0262",
   "metadata": {},
   "outputs": [
    {
     "name": "stdout",
     "output_type": "stream",
     "text": [
      "the negative index of p is: -6\n",
      "the negative index of y is: -5\n",
      "the negative index of t is: -4\n",
      "the negative index of h is: -3\n",
      "the negative index of o is: -2\n",
      "the negative index of n is: -1\n"
     ]
    }
   ],
   "source": [
    "# wap ask the user print the letters from a given word \n",
    "# using for loop\n",
    "# 'the negative index of p is:-6'\n",
    "# 'the negative index of y is:-5'\n",
    "\n",
    "# i want letter as well as attached index number\n",
    "name3='python'\n",
    "for i in range(len(name3)):\n",
    "    print('the negative index of {} is: {}'.format(name3[i],i-len(name3)))\n",
    "    \n",
    "#len(name3)=6\n",
    "#i-len(name3)\n",
    "#0-6=-6, 1-6=-5, 2-6=-4, 3-6=-3, 4-6=-2, 5-6=-1\n",
    "#i is len(name3)=6\n",
    "#i=0to 5 because index starts with zero\n"
   ]
  },
  {
   "cell_type": "code",
   "execution_count": 52,
   "id": "8038f6a0",
   "metadata": {},
   "outputs": [
    {
     "name": "stdout",
     "output_type": "stream",
     "text": [
      "the negative index of p is: -6\n",
      "the negative index of y is: -5\n",
      "the negative index of t is: -4\n",
      "the negative index of h is: -3\n",
      "the negative index of o is: -2\n",
      "the negative index of n is: -1\n"
     ]
    }
   ],
   "source": [
    "#by using while loop\n",
    "i=0\n",
    "while i<len(name3):\n",
    "    print('the negative index of {} is: {}'.format(name3[i],i-len(name3)))\n",
    "    i=i+1"
   ]
  },
  {
   "cell_type": "code",
   "execution_count": 53,
   "id": "ad199958",
   "metadata": {},
   "outputs": [
    {
     "name": "stdout",
     "output_type": "stream",
     "text": [
      "the positive index is: 0 the negetive index is: -6 for p\n",
      "the positive index is: 1 the negetive index is: -5 for y\n",
      "the positive index is: 2 the negetive index is: -4 for t\n",
      "the positive index is: 3 the negetive index is: -3 for h\n",
      "the positive index is: 4 the negetive index is: -2 for o\n",
      "the positive index is: 5 the negetive index is: -1 for n\n"
     ]
    }
   ],
   "source": [
    "name='python'\n",
    "for i in range(len(name)):\n",
    "    print('the positive index is: {} the negetive index is: {} for {}'. format(i,i-len(name),name[i]))"
   ]
  },
  {
   "cell_type": "code",
   "execution_count": 54,
   "id": "bdbc5da7",
   "metadata": {},
   "outputs": [
    {
     "name": "stdout",
     "output_type": "stream",
     "text": [
      "The +ve Index is 0 and -ve Index is -12 for:L\n",
      "The +ve Index is 1 and -ve Index is -11 for:e\n",
      "The +ve Index is 2 and -ve Index is -10 for:a\n",
      "The +ve Index is 3 and -ve Index is -9 for:r\n",
      "The +ve Index is 4 and -ve Index is -8 for:n\n",
      "The +ve Index is 5 and -ve Index is -7 for: \n",
      "The +ve Index is 6 and -ve Index is -6 for:P\n",
      "The +ve Index is 7 and -ve Index is -5 for:y\n",
      "The +ve Index is 8 and -ve Index is -4 for:t\n",
      "The +ve Index is 9 and -ve Index is -3 for:h\n",
      "The +ve Index is 10 and -ve Index is -2 for:o\n",
      "The +ve Index is 11 and -ve Index is -1 for:n\n"
     ]
    }
   ],
   "source": [
    "word = \"Learn Python\"\n",
    "for i in range(len(word)):\n",
    "    print(\"The +ve Index is {} and -ve Index is {} for:{}\".format(i,i-len(word),word[i]))"
   ]
  },
  {
   "cell_type": "code",
   "execution_count": 61,
   "id": "59f9113c",
   "metadata": {},
   "outputs": [
    {
     "name": "stdout",
     "output_type": "stream",
     "text": [
      "0 i\n",
      "1  \n",
      "2 l\n",
      "3 e\n",
      "4 a\n",
      "5 r\n",
      "6 n\n",
      "7  \n",
      "8 p\n",
      "9 y\n",
      "10 t\n",
      "11 h\n",
      "12 o\n",
      "13 n\n",
      "the positive index of i is:0\n",
      "the positive index of   is:1\n",
      "the positive index of l is:2\n",
      "the positive index of e is:3\n",
      "the positive index of a is:4\n",
      "the positive index of r is:5\n",
      "the positive index of n is:6\n",
      "the positive index of   is:7\n",
      "the positive index of p is:8\n",
      "the positive index of y is:9\n",
      "the positive index of t is:10\n",
      "the positive index of h is:11\n",
      "the positive index of o is:12\n",
      "the positive index of n is:13\n",
      "the negative index of i is:-14\n",
      "the negative index of   is:-13\n",
      "the negative index of l is:-12\n",
      "the negative index of e is:-11\n",
      "the negative index of a is:-10\n",
      "the negative index of r is:-9\n",
      "the negative index of n is:-8\n",
      "the negative index of   is:-7\n",
      "the negative index of p is:-6\n",
      "the negative index of y is:-5\n",
      "the negative index of t is:-4\n",
      "the negative index of h is:-3\n",
      "the negative index of o is:-2\n",
      "the negative index of n is:-1\n"
     ]
    }
   ],
   "source": [
    "name4='i learn python'\n",
    "for i in range(len(name4)):\n",
    "    print(i,name4[i])\n",
    "    \n",
    "#===============positive index=========================\n",
    "for i in range(len(name4)):\n",
    "    print(\"the positive index of {} is:{}\".format(name4[i],i))\n",
    "    \n",
    "#===============negative index=========================\n",
    "for i in range(len(name4)):\n",
    "    print(\"the negative index of {} is:{}\".format(name4[i],i-len(name4)))\n",
    "    \n"
   ]
  },
  {
   "cell_type": "code",
   "execution_count": 62,
   "id": "c650e6ac",
   "metadata": {},
   "outputs": [],
   "source": [
    "sent='hai hai how are you'\n",
    "#important questions\n",
    "#Q1 print how many 'a' are there : 3\n",
    "\n",
    "#Q2 print the index of 'a': \n",
    "\n",
    "#Q3 print the number of vowels: a  a  i  o  a  e  o  u\n",
    "\n",
    "# Q4 print the number of unique vowels:  a i   o   e  u:4"
   ]
  },
  {
   "cell_type": "code",
   "execution_count": 21,
   "id": "0da8fbf6",
   "metadata": {},
   "outputs": [
    {
     "name": "stdout",
     "output_type": "stream",
     "text": [
      "how many a are there is: 2\n",
      "1\n",
      "8\n",
      "no of repated a are: 2\n",
      "no of vowels are there  7\n",
      "a\n",
      "the number of unique a are 1\n"
     ]
    }
   ],
   "source": [
    "#1st question\n",
    "#====================================number of a in string============================\n",
    "#Q1 print how many 'a' are there : 3\n",
    "sent='hai how are you'\n",
    "count=0\n",
    "for i in range(len(sent)):\n",
    "    if sent[i]=='a':\n",
    "        count=count+1\n",
    "print('how many a are there is:',count)\n",
    "\n",
    "#=====================================getting index of 'a'=====================================\n",
    "#Q2 print the index of 'a': \n",
    "sent='hai how are you'\n",
    "count=0\n",
    "for i in range(len(sent)):\n",
    "    if sent[i]=='a':\n",
    "        count=count+1\n",
    "        print(i)\n",
    "        \n",
    "print(\"no of repated a are:\",count)\n",
    "\n",
    "#====================================no of vowels===============================\n",
    "#Q3 print the number of vowels: a  a  i  o  a  e  o  u\n",
    "sent='hai how are you'\n",
    "count=0\n",
    "#first iterate letters\n",
    "for i in range(len(sent)):\n",
    "    if sent[i] in 'aeiou':\n",
    "        count=count+1\n",
    "print('no of vowels are there ',count)\n",
    "#==================================no of unique 'a'=====================================\n",
    "sent='hai how are you'\n",
    "string=''\n",
    "count=0\n",
    "for i in range(len(sent)):\n",
    "    if sent[i] in 'aeiou':\n",
    "        if sent[i]!=string:\n",
    "            string=string+'a'\n",
    "            count=count+1\n",
    "            print(string)\n",
    "        print('the number of unique a are',count)\n",
    "        break"
   ]
  },
  {
   "cell_type": "markdown",
   "id": "dc115dc4",
   "metadata": {},
   "source": [
    "# mutability-immutability concept"
   ]
  },
  {
   "cell_type": "code",
   "execution_count": 84,
   "id": "53703f48",
   "metadata": {},
   "outputs": [],
   "source": [
    "string1='python'\n",
    "# I want to replace 'p'  with  'P'\n",
    "# based on index operation if you change it or not\n",
    "# if you change the value by using index operation: mutable\n",
    "# if you could not change the value by using index operation: immutable"
   ]
  },
  {
   "cell_type": "code",
   "execution_count": 85,
   "id": "00631696",
   "metadata": {},
   "outputs": [
    {
     "ename": "TypeError",
     "evalue": "'str' object does not support item assignment",
     "output_type": "error",
     "traceback": [
      "\u001b[1;31m---------------------------------------------------------------------------\u001b[0m",
      "\u001b[1;31mTypeError\u001b[0m                                 Traceback (most recent call last)",
      "\u001b[1;32m~\\AppData\\Local\\Temp\\ipykernel_5316\\1254263102.py\u001b[0m in \u001b[0;36m<module>\u001b[1;34m\u001b[0m\n\u001b[1;32m----> 1\u001b[1;33m \u001b[0mstring1\u001b[0m\u001b[1;33m[\u001b[0m\u001b[1;36m0\u001b[0m\u001b[1;33m]\u001b[0m\u001b[1;33m=\u001b[0m\u001b[1;34m'P'\u001b[0m\u001b[1;33m\u001b[0m\u001b[1;33m\u001b[0m\u001b[0m\n\u001b[0m",
      "\u001b[1;31mTypeError\u001b[0m: 'str' object does not support item assignment"
     ]
    }
   ],
   "source": [
    "string1[0]='P'"
   ]
  },
  {
   "cell_type": "markdown",
   "id": "159148db",
   "metadata": {},
   "source": [
    "In Python, strings are immutable, which means their values cannot be changed after they are created. Once a string is assigned, you cannot modify the individual characters of the string directly. string valuse cannot be changed by using index operation. But we use concatenation,slicing and string methods we convert 'python' to 'Python'.\n"
   ]
  },
  {
   "cell_type": "markdown",
   "id": "602851cf",
   "metadata": {},
   "source": [
    "# slicing\n",
    "#1.You can return a range of characters by using the slice syntax.\n",
    "#2.One way to do this is to use the simple slicing operator i.e. colon(:).\n",
    "#3.Specify the start index and the end index, separated by a colon, to return a part of the string."
   ]
  },
  {
   "cell_type": "code",
   "execution_count": 1,
   "id": "5492bd51",
   "metadata": {},
   "outputs": [
    {
     "data": {
      "text/plain": [
       "17"
      ]
     },
     "execution_count": 1,
     "metadata": {},
     "output_type": "execute_result"
    }
   ],
   "source": [
    "string1='hello how are you'\n",
    "#slicing concept is same as range() in for loop\n",
    "len(string1)"
   ]
  },
  {
   "cell_type": "code",
   "execution_count": null,
   "id": "a992dff7",
   "metadata": {},
   "outputs": [],
   "source": [
    " h  e  l  l  o   h  o  w     a  r  e     y  o  u\n",
    " 0  1  2  3  4 5 6  7  8  9  10 11 12 13 14 15 16"
   ]
  },
  {
   "cell_type": "code",
   "execution_count": 87,
   "id": "2534cbec",
   "metadata": {},
   "outputs": [
    {
     "data": {
      "text/plain": [
       "'llo how '"
      ]
     },
     "execution_count": 87,
     "metadata": {},
     "output_type": "execute_result"
    }
   ],
   "source": [
    "string1='hello how are you'\n",
    "#string1[start:stop:step]         # range(start,stop,step)\n",
    "string1[2:10]\n",
    "# what is the direction:  postive\n",
    "# start=2\n",
    "# stop=10-1=9"
   ]
  },
  {
   "cell_type": "code",
   "execution_count": 91,
   "id": "5985ed65",
   "metadata": {},
   "outputs": [
    {
     "data": {
      "text/plain": [
       "'el o r '"
      ]
     },
     "execution_count": 91,
     "metadata": {},
     "output_type": "execute_result"
    }
   ],
   "source": [
    "string1[1:15:2]\n",
    "# start=1\n",
    "# stop=15-1=14\n",
    "# post: step=2\n",
    "# 1  3   5   7   9   11   13 \n",
    "# e  l       o       r    "
   ]
  },
  {
   "cell_type": "code",
   "execution_count": 93,
   "id": "50afc5fb",
   "metadata": {},
   "outputs": [
    {
     "data": {
      "text/plain": [
       "''"
      ]
     },
     "execution_count": 93,
     "metadata": {},
     "output_type": "execute_result"
    }
   ],
   "source": [
    "string1[1:15:-2]\n",
    "# start=1\n",
    "# stop=16\n",
    "# dire=-ve\n",
    "# there step direction is negative the start and stop values are positive so they give output as empty string"
   ]
  },
  {
   "cell_type": "code",
   "execution_count": 95,
   "id": "0a62a190",
   "metadata": {},
   "outputs": [
    {
     "data": {
      "text/plain": [
       "'hello how are you'"
      ]
     },
     "execution_count": 95,
     "metadata": {},
     "output_type": "execute_result"
    }
   ],
   "source": [
    "string1[:]\n",
    "# sting1[start:stop]\n",
    "# notging is mentioned means\n",
    "# postive direction\n",
    "# start=0\n",
    "# stop=till last charcter"
   ]
  },
  {
   "cell_type": "code",
   "execution_count": 97,
   "id": "058b737b",
   "metadata": {},
   "outputs": [
    {
     "data": {
      "text/plain": [
       "'hello how are you'"
      ]
     },
     "execution_count": 97,
     "metadata": {},
     "output_type": "execute_result"
    }
   ],
   "source": [
    "string1[::]  # string1[start:stop:step]\n",
    "#string[0:lastchar:1]\n",
    "#step value no mentioned means value is always 1 and direction is +ve"
   ]
  },
  {
   "cell_type": "markdown",
   "id": "7be5f778",
   "metadata": {},
   "source": [
    "nothing mentioned at start postition: simply starting of letter\n",
    "\n",
    "nothing mentioned at stop postion: simply last letter\n",
    "\n",
    "nothing mentioned at step size: it is postive direction with step value +1\n"
   ]
  },
  {
   "cell_type": "code",
   "execution_count": 99,
   "id": "a40f920d",
   "metadata": {},
   "outputs": [
    {
     "name": "stdout",
     "output_type": "stream",
     "text": [
      "hello how are you\n",
      "hello how are you\n",
      "hello how are you\n",
      "hello how are you\n"
     ]
    }
   ],
   "source": [
    "print(string1[0:])#start=0,stop=last character\n",
    "print(string1[:len(string1)])#start=0,stop=len(string1)\n",
    "print(string1[:])#start=0,stop=last character,1 colon means start and stop value are there\n",
    "print(string1[::])#start=0,stop=last character,step=1,2 colon means start, stop and step values are there"
   ]
  },
  {
   "cell_type": "code",
   "execution_count": 100,
   "id": "39a603c6",
   "metadata": {},
   "outputs": [],
   "source": [
    "-17  -16 -15 -14 -13 -12 -11  -10 -9 -8 -7  -6  -5  -4   -3  -2  -1=====>negative index\n",
    "h     e   l   l   o       h    o   w     a   r   e        y   o   u\n",
    "0     1   2   3   4   5   6    7   8  9  10  11  12  13   14  15  16=====>positive index"
   ]
  },
  {
   "cell_type": "code",
   "execution_count": 101,
   "id": "bb48d6ba",
   "metadata": {},
   "outputs": [
    {
     "data": {
      "text/plain": [
       "''"
      ]
     },
     "execution_count": 101,
     "metadata": {},
     "output_type": "execute_result"
    }
   ],
   "source": [
    "string1[-2:-15]\n",
    "# start=-2\n",
    "# direc\n",
    "# step value : postive \n",
    "# not possible"
   ]
  },
  {
   "cell_type": "code",
   "execution_count": 102,
   "id": "01e35f65",
   "metadata": {},
   "outputs": [
    {
     "data": {
      "text/plain": [
       "'oy era woh ol'"
      ]
     },
     "execution_count": 102,
     "metadata": {},
     "output_type": "execute_result"
    }
   ],
   "source": [
    "string1[-2:-15:-1]\n",
    "# start=-2   dire=-ve  stop=-15+1=-14   possible"
   ]
  },
  {
   "cell_type": "code",
   "execution_count": 3,
   "id": "add6eead",
   "metadata": {},
   "outputs": [
    {
     "data": {
      "text/plain": [
       "''"
      ]
     },
     "execution_count": 3,
     "metadata": {},
     "output_type": "execute_result"
    }
   ],
   "source": [
    "string1[-15:-2:-1]"
   ]
  },
  {
   "cell_type": "code",
   "execution_count": 4,
   "id": "0d7c1d1f",
   "metadata": {},
   "outputs": [
    {
     "data": {
      "text/plain": [
       "'lohwaey'"
      ]
     },
     "execution_count": 4,
     "metadata": {},
     "output_type": "execute_result"
    }
   ],
   "source": [
    "string1[-15:-2:2]"
   ]
  },
  {
   "cell_type": "code",
   "execution_count": 6,
   "id": "65dee319",
   "metadata": {},
   "outputs": [],
   "source": [
    "17  -16 -15 -14 -13 -12 -11  -10 -9 -8 -7  -6  -5  -4   -3  -2  -1\n",
    "h     e   l   l   o       h    o   w     a   r   e        y   o   u\n",
    "0     1   2   3   4   5   6    7   8  9  10  11  12  13   14  15  16"
   ]
  },
  {
   "cell_type": "code",
   "execution_count": 2,
   "id": "3f7e63d5",
   "metadata": {},
   "outputs": [
    {
     "data": {
      "text/plain": [
       "'woh ol'"
      ]
     },
     "execution_count": 2,
     "metadata": {},
     "output_type": "execute_result"
    }
   ],
   "source": [
    "string1[8:-15:-1]\n",
    "\n",
    "#start=8  stop =-15+1=-14  it is positive"
   ]
  },
  {
   "cell_type": "code",
   "execution_count": 3,
   "id": "16b5a050",
   "metadata": {},
   "outputs": [
    {
     "data": {
      "text/plain": [
       "'w'"
      ]
     },
     "execution_count": 3,
     "metadata": {},
     "output_type": "execute_result"
    }
   ],
   "source": [
    "string1[8:-10:-1]"
   ]
  },
  {
   "cell_type": "code",
   "execution_count": 4,
   "id": "bd1e4afc",
   "metadata": {},
   "outputs": [
    {
     "data": {
      "text/plain": [
       "'w'"
      ]
     },
     "execution_count": 4,
     "metadata": {},
     "output_type": "execute_result"
    }
   ],
   "source": [
    "string1[8:-10:-2]"
   ]
  },
  {
   "cell_type": "code",
   "execution_count": 5,
   "id": "2d0dc93a",
   "metadata": {},
   "outputs": [
    {
     "data": {
      "text/plain": [
       "'hello how are you'"
      ]
     },
     "execution_count": 5,
     "metadata": {},
     "output_type": "execute_result"
    }
   ],
   "source": [
    "string1[::1]\n",
    "\n",
    "# postive \n",
    "# start: start\n",
    "# stop: last"
   ]
  },
  {
   "cell_type": "code",
   "execution_count": 7,
   "id": "5b6b555a",
   "metadata": {},
   "outputs": [
    {
     "data": {
      "text/plain": [
       "'uoy era woh olleh'"
      ]
     },
     "execution_count": 7,
     "metadata": {},
     "output_type": "execute_result"
    }
   ],
   "source": [
    "# If i want reverse the string\n",
    "string1[::-1]\n",
    "# in the negative \n",
    "# start: u\n",
    "# stop:h"
   ]
  },
  {
   "cell_type": "markdown",
   "id": "078f6c4c",
   "metadata": {},
   "source": [
    "# string methods\n",
    "Python has a set of built-in methods that you can use on strings.\n",
    "\n",
    "Note: All string methods returns new values. They do not change the original string."
   ]
  },
  {
   "cell_type": "code",
   "execution_count": 8,
   "id": "601651ca",
   "metadata": {},
   "outputs": [
    {
     "data": {
      "text/plain": [
       "['__add__',\n",
       " '__class__',\n",
       " '__contains__',\n",
       " '__delattr__',\n",
       " '__dir__',\n",
       " '__doc__',\n",
       " '__eq__',\n",
       " '__format__',\n",
       " '__ge__',\n",
       " '__getattribute__',\n",
       " '__getitem__',\n",
       " '__getnewargs__',\n",
       " '__gt__',\n",
       " '__hash__',\n",
       " '__init__',\n",
       " '__init_subclass__',\n",
       " '__iter__',\n",
       " '__le__',\n",
       " '__len__',\n",
       " '__lt__',\n",
       " '__mod__',\n",
       " '__mul__',\n",
       " '__ne__',\n",
       " '__new__',\n",
       " '__reduce__',\n",
       " '__reduce_ex__',\n",
       " '__repr__',\n",
       " '__rmod__',\n",
       " '__rmul__',\n",
       " '__setattr__',\n",
       " '__sizeof__',\n",
       " '__str__',\n",
       " '__subclasshook__',\n",
       " 'capitalize',\n",
       " 'casefold',\n",
       " 'center',\n",
       " 'count',\n",
       " 'encode',\n",
       " 'endswith',\n",
       " 'expandtabs',\n",
       " 'find',\n",
       " 'format',\n",
       " 'format_map',\n",
       " 'index',\n",
       " 'isalnum',\n",
       " 'isalpha',\n",
       " 'isascii',\n",
       " 'isdecimal',\n",
       " 'isdigit',\n",
       " 'isidentifier',\n",
       " 'islower',\n",
       " 'isnumeric',\n",
       " 'isprintable',\n",
       " 'isspace',\n",
       " 'istitle',\n",
       " 'isupper',\n",
       " 'join',\n",
       " 'ljust',\n",
       " 'lower',\n",
       " 'lstrip',\n",
       " 'maketrans',\n",
       " 'partition',\n",
       " 'removeprefix',\n",
       " 'removesuffix',\n",
       " 'replace',\n",
       " 'rfind',\n",
       " 'rindex',\n",
       " 'rjust',\n",
       " 'rpartition',\n",
       " 'rsplit',\n",
       " 'rstrip',\n",
       " 'split',\n",
       " 'splitlines',\n",
       " 'startswith',\n",
       " 'strip',\n",
       " 'swapcase',\n",
       " 'title',\n",
       " 'translate',\n",
       " 'upper',\n",
       " 'zfill']"
      ]
     },
     "execution_count": 8,
     "metadata": {},
     "output_type": "execute_result"
    }
   ],
   "source": [
    "dir('')"
   ]
  },
  {
   "cell_type": "markdown",
   "id": "f0aa28c1",
   "metadata": {},
   "source": [
    "# important string methods.\n",
    "1.capitalize 2.upper\n",
    "3.casefold 4.lower\n",
    "\n",
    "5.upper\n",
    "\n",
    "6.count\n",
    "\n",
    "7.index 8.find\n",
    "\n",
    "9.replace\n",
    "\n",
    "10.split\n",
    "\n",
    "11.strip 12.lstrip 13. rstrip\n",
    "\n",
    "14. startswith 15. endswith\n",
    "\n",
    "16. isaplha 17.isnumeric 18.isalnum 19.isupper 20.islower 21.isdecimal 22.isdigit\n"
   ]
  },
  {
   "cell_type": "markdown",
   "id": "1db09f87",
   "metadata": {},
   "source": [
    "# capitialize\n",
    "Make the first character have upper case and the rest lower case."
   ]
  },
  {
   "cell_type": "code",
   "execution_count": 10,
   "id": "250ceb8c",
   "metadata": {},
   "outputs": [
    {
     "data": {
      "text/plain": [
       "'python'"
      ]
     },
     "execution_count": 10,
     "metadata": {},
     "output_type": "execute_result"
    }
   ],
   "source": [
    "#capitalize(): convert the first character of a string in uppercase and the rest lowercase\n",
    "name='python'\n",
    "name"
   ]
  },
  {
   "cell_type": "code",
   "execution_count": 13,
   "id": "1b878a76",
   "metadata": {},
   "outputs": [
    {
     "data": {
      "text/plain": [
       "'Python'"
      ]
     },
     "execution_count": 13,
     "metadata": {},
     "output_type": "execute_result"
    }
   ],
   "source": [
    "name.capitalize()"
   ]
  },
  {
   "cell_type": "markdown",
   "id": "5457628b",
   "metadata": {},
   "source": [
    "# upper\n",
    " upper(): Converts all lowercase characters in a string into uppercase"
   ]
  },
  {
   "cell_type": "code",
   "execution_count": 19,
   "id": "f1d51341",
   "metadata": {},
   "outputs": [
    {
     "data": {
      "text/plain": [
       "'PYTHON'"
      ]
     },
     "execution_count": 19,
     "metadata": {},
     "output_type": "execute_result"
    }
   ],
   "source": [
    "#upper(): Converts alllowercase characters in a string into uppercase\n",
    "name='python'\n",
    "name.upper()"
   ]
  },
  {
   "cell_type": "markdown",
   "id": "ff3fd6a2",
   "metadata": {},
   "source": [
    "# lower\n",
    "lower(): Converts all uppercase characters in a string into lowercase"
   ]
  },
  {
   "cell_type": "code",
   "execution_count": 22,
   "id": "1009f140",
   "metadata": {},
   "outputs": [
    {
     "data": {
      "text/plain": [
       "'python'"
      ]
     },
     "execution_count": 22,
     "metadata": {},
     "output_type": "execute_result"
    }
   ],
   "source": [
    "#lower(): Converts all uppercase characters in a string into lowecase\n",
    "name='PYTHON'\n",
    "name.lower()"
   ]
  },
  {
   "cell_type": "markdown",
   "id": "9960a1b6",
   "metadata": {},
   "source": [
    "# Casefold\n",
    "casefold(): Converts caseless characters in a string into lowercase."
   ]
  },
  {
   "cell_type": "code",
   "execution_count": 23,
   "id": "81c7e063",
   "metadata": {},
   "outputs": [
    {
     "data": {
      "text/plain": [
       "'i learn python'"
      ]
     },
     "execution_count": 23,
     "metadata": {},
     "output_type": "execute_result"
    }
   ],
   "source": [
    "#casefold: converts caseless characters in a string into lowercase.\n",
    "name='I leaRn pYthON'\n",
    "name.casefold()"
   ]
  },
  {
   "cell_type": "code",
   "execution_count": 24,
   "id": "e8f38923",
   "metadata": {},
   "outputs": [],
   "source": [
    "string1='hello'\n",
    "\n",
    "#output: string1='Hello'  with out using string method\n",
    "# strings immutable: index operations\n",
    "# hint: using slicing and conactenation"
   ]
  },
  {
   "cell_type": "code",
   "execution_count": 25,
   "id": "dbba91ba",
   "metadata": {},
   "outputs": [
    {
     "data": {
      "text/plain": [
       "'Hello'"
      ]
     },
     "execution_count": 25,
     "metadata": {},
     "output_type": "execute_result"
    }
   ],
   "source": [
    "string1='hello'\n",
    "string2='H'\n",
    "string3=string1[1:]\n",
    "string2+string3"
   ]
  },
  {
   "cell_type": "markdown",
   "id": "80f57005",
   "metadata": {},
   "source": [
    "# count\n",
    "count(): Returns the number of occurrences of a substring in the string."
   ]
  },
  {
   "cell_type": "code",
   "execution_count": 28,
   "id": "67b119ab",
   "metadata": {},
   "outputs": [
    {
     "data": {
      "text/plain": [
       "3"
      ]
     },
     "execution_count": 28,
     "metadata": {},
     "output_type": "execute_result"
    }
   ],
   "source": [
    "#count(): Return the number of times a specified value occurs in a string\n",
    "string1='hai  hello how are you'\n",
    "string1.count('h')"
   ]
  },
  {
   "cell_type": "code",
   "execution_count": 29,
   "id": "1eac9a44",
   "metadata": {},
   "outputs": [],
   "source": [
    "# WAP convert above string into lower case\n",
    "# and count number of 'h'\n",
    "\n",
    "# Do by using string methods: 4          lower and count\n",
    "# Do by using with out string methods:4  for loop and if condition"
   ]
  },
  {
   "cell_type": "code",
   "execution_count": 30,
   "id": "a223822b",
   "metadata": {},
   "outputs": [
    {
     "data": {
      "text/plain": [
       "4"
      ]
     },
     "execution_count": 30,
     "metadata": {},
     "output_type": "execute_result"
    }
   ],
   "source": [
    "# Method-1:\n",
    "string1='HAI HAI hai hai'\n",
    "string2=string1.lower()\n",
    "string2.count('h')\n",
    "\n",
    "# M-2:\n",
    "string1.lower().count('h')\n",
    "\n",
    "# M-3:\n",
    "'HAI HAI hai hai'.lower().count('h')\n",
    "\n",
    "# M-4:\n",
    "'hai hai hai hai'.count('h')"
   ]
  },
  {
   "cell_type": "code",
   "execution_count": 34,
   "id": "94bb0428",
   "metadata": {},
   "outputs": [
    {
     "name": "stdout",
     "output_type": "stream",
     "text": [
      "4\n"
     ]
    }
   ],
   "source": [
    "string1='Hai Hai hai hai'\n",
    "count=0\n",
    "for i in range(len(string1)):\n",
    "    if string1[i]=='h' or string1[i]=='H':  # both conditions we are checking at a time\n",
    "        count=count+1\n",
    "        \n",
    "print(count)\n",
    "# or means any condition is true is fine\n",
    "# and means both the conditions need be True"
   ]
  },
  {
   "cell_type": "code",
   "execution_count": 35,
   "id": "6b5e3022",
   "metadata": {},
   "outputs": [
    {
     "name": "stdout",
     "output_type": "stream",
     "text": [
      "4\n"
     ]
    }
   ],
   "source": [
    "string1='Hai Hai hai hai'\n",
    "count=0\n",
    "for i in string1.lower():\n",
    "    if i=='h' or i=='H':  # both conditions we are checking at a time\n",
    "        count=count+1\n",
    "        \n",
    "print(count)"
   ]
  },
  {
   "cell_type": "code",
   "execution_count": 37,
   "id": "18127409",
   "metadata": {},
   "outputs": [
    {
     "name": "stdout",
     "output_type": "stream",
     "text": [
      "4\n"
     ]
    }
   ],
   "source": [
    "string1='Hai Hai hai hai'\n",
    "count=0\n",
    "for i in string1:\n",
    "    if i.lower()=='h':  # both conditions we are checking at a time\n",
    "        count=count+1\n",
    "        \n",
    "print(count)\n",
    "# if you use range function on strings\n",
    "# use index method\n",
    "\n",
    "# if you use in operator on string : direct"
   ]
  },
  {
   "cell_type": "code",
   "execution_count": 38,
   "id": "433650cf",
   "metadata": {},
   "outputs": [
    {
     "name": "stdout",
     "output_type": "stream",
     "text": [
      "4\n",
      "4\n",
      "0\n",
      "3\n"
     ]
    }
   ],
   "source": [
    "string2='ola ola ola ola'\n",
    "print(string2.count('ola')) #4\n",
    "print(string2.count('o'))   #4\n",
    "print(string2.count('oa'))  #0\n",
    "print(string2.count('ola '))# 3"
   ]
  },
  {
   "cell_type": "code",
   "execution_count": 39,
   "id": "7b3c64ad",
   "metadata": {},
   "outputs": [
    {
     "data": {
      "text/plain": [
       "15"
      ]
     },
     "execution_count": 39,
     "metadata": {},
     "output_type": "execute_result"
    }
   ],
   "source": [
    "string2='ola ola ola ola'\n",
    "len(string2)\n",
    "# I want to know how many 'a' are there after 4th index"
   ]
  },
  {
   "cell_type": "code",
   "execution_count": 40,
   "id": "2244ac4e",
   "metadata": {},
   "outputs": [],
   "source": [
    "o  l  a    o  l  a    o  l  a     o  l  a\n",
    "0  1  2  3  4 5  6  7 8  9  10 11 12 13 14"
   ]
  },
  {
   "cell_type": "code",
   "execution_count": 41,
   "id": "40109e53",
   "metadata": {},
   "outputs": [
    {
     "data": {
      "text/plain": [
       "3"
      ]
     },
     "execution_count": 41,
     "metadata": {},
     "output_type": "execute_result"
    }
   ],
   "source": [
    "string2.count('a',4)\n",
    "#4 is index number"
   ]
  },
  {
   "cell_type": "code",
   "execution_count": 42,
   "id": "2e0eb401",
   "metadata": {},
   "outputs": [
    {
     "data": {
      "text/plain": [
       "1"
      ]
     },
     "execution_count": 42,
     "metadata": {},
     "output_type": "execute_result"
    }
   ],
   "source": [
    "string2.count('a',4)\n",
    "# here 4 means we are counting 'a' from 4th index\n",
    "\n",
    "# how many 'a' are there between 4  to 8th index\n",
    "string2.count('a',4,9)\n",
    "\n",
    "#ola   ola   ola  ola\n",
    "#012 3 456 7 8910\n",
    "\n",
    "# string.count(<char>,start_index)"
   ]
  },
  {
   "cell_type": "code",
   "execution_count": 43,
   "id": "347a9889",
   "metadata": {},
   "outputs": [
    {
     "data": {
      "text/plain": [
       "3"
      ]
     },
     "execution_count": 43,
     "metadata": {},
     "output_type": "execute_result"
    }
   ],
   "source": [
    "string2[4:].count('ola')\n",
    "# count method is internally doing the slicing also\n",
    "# not required slicing when you apply count method"
   ]
  },
  {
   "cell_type": "code",
   "execution_count": 44,
   "id": "8e299182",
   "metadata": {},
   "outputs": [
    {
     "name": "stdout",
     "output_type": "stream",
     "text": [
      "3\n"
     ]
    }
   ],
   "source": [
    "# wap by using for if \n",
    "count=0\n",
    "for i in range(len(string2)-2):  # 0  to 12\n",
    "    if i>=4:\n",
    "        if string2[i]+string2[i+1]+string2[i+2]=='ola': # 'o'=='ola'  F            \n",
    "            count=count+1\n",
    "            \n",
    "print(count)\n",
    "    \n",
    "# you need to count the number of 'o' from index 4\n",
    "# charcters aswellas number\n",
    "# in/range           range()"
   ]
  },
  {
   "cell_type": "code",
   "execution_count": null,
   "id": "972d3c99",
   "metadata": {},
   "outputs": [],
   "source": [
    "i=4 #==================== True\n",
    "i=5\n",
    "i=6\n",
    "i=7\n",
    "i=8 #==================== True\n",
    "i=9\n",
    "i=10\n",
    "i=11\n",
    "i=12 #====================== True\n",
    "i=13\n",
    "string2[i]+string2[i+1]+string2[i+2]\n",
    "string2[13]+string2[14]+string2[15]"
   ]
  },
  {
   "cell_type": "markdown",
   "id": "5464e497",
   "metadata": {},
   "source": [
    "# Replace\n"
   ]
  },
  {
   "cell_type": "code",
   "execution_count": 45,
   "id": "0583ba4a",
   "metadata": {},
   "outputs": [],
   "source": [
    "#replace(): Returns a string where a specified value is replaced with a specified value\n",
    "string1='welcome'\n",
    "# I want replace 'l'  with 'L'"
   ]
  },
  {
   "cell_type": "code",
   "execution_count": 47,
   "id": "88357b38",
   "metadata": {},
   "outputs": [
    {
     "ename": "TypeError",
     "evalue": "'str' object does not support item assignment",
     "output_type": "error",
     "traceback": [
      "\u001b[1;31m---------------------------------------------------------------------------\u001b[0m",
      "\u001b[1;31mTypeError\u001b[0m                                 Traceback (most recent call last)",
      "\u001b[1;32m~\\AppData\\Local\\Temp\\ipykernel_9712\\3576152369.py\u001b[0m in \u001b[0;36m<module>\u001b[1;34m\u001b[0m\n\u001b[1;32m----> 1\u001b[1;33m \u001b[0mstring1\u001b[0m\u001b[1;33m[\u001b[0m\u001b[1;36m2\u001b[0m\u001b[1;33m]\u001b[0m\u001b[1;33m=\u001b[0m\u001b[1;34m'L'\u001b[0m\u001b[1;33m\u001b[0m\u001b[1;33m\u001b[0m\u001b[0m\n\u001b[0m",
      "\u001b[1;31mTypeError\u001b[0m: 'str' object does not support item assignment"
     ]
    }
   ],
   "source": [
    "string1[2]='L'#strings are immutable by using index method"
   ]
  },
  {
   "cell_type": "code",
   "execution_count": 48,
   "id": "81535945",
   "metadata": {},
   "outputs": [
    {
     "data": {
      "text/plain": [
       "'weLcome'"
      ]
     },
     "execution_count": 48,
     "metadata": {},
     "output_type": "execute_result"
    }
   ],
   "source": [
    "# welcome =====\n",
    "#we =string1[:2]    \n",
    "#come =string1[3:]\n",
    "# slice + concatenation\n",
    "string1[:2]+'L'+string1[3:]"
   ]
  },
  {
   "cell_type": "code",
   "execution_count": 49,
   "id": "58dda867",
   "metadata": {},
   "outputs": [
    {
     "data": {
      "text/plain": [
       "'weLcome'"
      ]
     },
     "execution_count": 49,
     "metadata": {},
     "output_type": "execute_result"
    }
   ],
   "source": [
    "string1.replace('l','L')"
   ]
  },
  {
   "cell_type": "code",
   "execution_count": 50,
   "id": "b74e7e56",
   "metadata": {},
   "outputs": [
    {
     "data": {
      "text/plain": [
       "'weLcome'"
      ]
     },
     "execution_count": 50,
     "metadata": {},
     "output_type": "execute_result"
    }
   ],
   "source": [
    "# all together\n",
    "string1='welcome'\n",
    "#=============== Slice +Cocatenation================\n",
    "string1[:2]+'L'+string1[3:]\n",
    "#=============== Replace method=================\n",
    "string1.replace('l','L')"
   ]
  },
  {
   "cell_type": "code",
   "execution_count": 51,
   "id": "7a36b97a",
   "metadata": {},
   "outputs": [
    {
     "data": {
      "text/plain": [
       "'$esta$t'"
      ]
     },
     "execution_count": 51,
     "metadata": {},
     "output_type": "execute_result"
    }
   ],
   "source": [
    "# input:   restart\n",
    "# output1: $estart\n",
    "# output2: resta$t\n",
    "# using replace method\n",
    "\n",
    "# what is the intial drawback\n",
    "'restart'.replace('r','$')\n",
    "# replace method will replace all\n",
    "# the occurences"
   ]
  },
  {
   "cell_type": "code",
   "execution_count": 52,
   "id": "c636c1a4",
   "metadata": {},
   "outputs": [
    {
     "name": "stdout",
     "output_type": "stream",
     "text": [
      "$esta$t\n"
     ]
    }
   ],
   "source": [
    "string1='restart'\n",
    "print(string1.replace('r','$'))#replace will replace all occurences in a string"
   ]
  },
  {
   "cell_type": "code",
   "execution_count": 53,
   "id": "f948c2f9",
   "metadata": {},
   "outputs": [
    {
     "name": "stdout",
     "output_type": "stream",
     "text": [
      "$estart\n",
      "resta$t\n",
      "$esta$t\n"
     ]
    }
   ],
   "source": [
    "string1 ='restart'\n",
    "print('$'+string1[1:]) # we already know\n",
    "print(string1[:5]+'$'+string1[6:]) # we already know\n",
    "print(string1.replace('r','$'))"
   ]
  },
  {
   "cell_type": "code",
   "execution_count": 57,
   "id": "6598d1de",
   "metadata": {},
   "outputs": [
    {
     "data": {
      "text/plain": [
       "'$estart'"
      ]
     },
     "execution_count": 57,
     "metadata": {},
     "output_type": "execute_result"
    }
   ],
   "source": [
    "string1='restart'\n",
    "string1.replace('r','$',1)#there will replace only one occurence\n",
    "#1 means only replace one occurence"
   ]
  },
  {
   "cell_type": "code",
   "execution_count": 58,
   "id": "ef8cd4b5",
   "metadata": {},
   "outputs": [
    {
     "name": "stdout",
     "output_type": "stream",
     "text": [
      "resta$t\n",
      "resta$t\n"
     ]
    }
   ],
   "source": [
    "string1='restart'\n",
    "print(string1[:1]+string1[1:].replace('r','$',1))\n",
    "print(string1[::-1].replace('r','$',1)[::-1])"
   ]
  },
  {
   "cell_type": "code",
   "execution_count": 59,
   "id": "8eb4c518",
   "metadata": {},
   "outputs": [
    {
     "data": {
      "text/plain": [
       "'ap0orv'"
      ]
     },
     "execution_count": 59,
     "metadata": {},
     "output_type": "execute_result"
    }
   ],
   "source": [
    "name='apoorv'\n",
    "# 'o'  with '0'\n",
    "name.replace('o','0',1)\n",
    "# replace\n",
    "# 1 'o' i need to change"
   ]
  },
  {
   "cell_type": "markdown",
   "id": "dfd02f0d",
   "metadata": {},
   "source": [
    "# Index\n",
    "Returns the position of the first occurrence of a substring in a string\n"
   ]
  },
  {
   "cell_type": "code",
   "execution_count": 60,
   "id": "bd2862a2",
   "metadata": {},
   "outputs": [
    {
     "data": {
      "text/plain": [
       "2"
      ]
     },
     "execution_count": 60,
     "metadata": {},
     "output_type": "execute_result"
    }
   ],
   "source": [
    "string1='python'\n",
    "# If i want to know  \n",
    "# index of 't'\n",
    "string1.index('t')"
   ]
  },
  {
   "cell_type": "code",
   "execution_count": 68,
   "id": "990a9682",
   "metadata": {},
   "outputs": [
    {
     "name": "stdout",
     "output_type": "stream",
     "text": [
      "0\n",
      "4\n",
      "10\n"
     ]
    }
   ],
   "source": [
    "string1='hai hello how are u'\n",
    "first_index=string1.index('h')\n",
    "print(first_index)\n",
    "second_index=string1.index('h',first_index+1)\n",
    "print(second_index)\n",
    "third_index=string1.index('h',second_index+1)\n",
    "print(third_index)"
   ]
  },
  {
   "cell_type": "code",
   "execution_count": 69,
   "id": "e0ad2ebd",
   "metadata": {},
   "outputs": [
    {
     "name": "stdout",
     "output_type": "stream",
     "text": [
      "3 6 12\n"
     ]
    }
   ],
   "source": [
    "string1='restart how to'\n",
    "# get the first 't'\n",
    "f_o=string1.index('t')# it will provide only first occurence of charcter index\n",
    "s_o=string1.index('t',f_o+1)\n",
    "t_o=string1.index('t',s_o+1)\n",
    "#fou_o=string1.index('t',t_o+1)\n",
    "print(f_o,s_o,t_o)"
   ]
  },
  {
   "cell_type": "code",
   "execution_count": 70,
   "id": "7d9cadcc",
   "metadata": {},
   "outputs": [
    {
     "name": "stdout",
     "output_type": "stream",
     "text": [
      "3\n",
      "3\n"
     ]
    }
   ],
   "source": [
    "string1='restart how to'\n",
    "print(string1.count('t'))  # 3\n",
    "print(string1.index('t'))  # 3"
   ]
  },
  {
   "cell_type": "code",
   "execution_count": 71,
   "id": "bc9023ae",
   "metadata": {},
   "outputs": [
    {
     "name": "stdout",
     "output_type": "stream",
     "text": [
      "0\n"
     ]
    },
    {
     "ename": "ValueError",
     "evalue": "substring not found",
     "output_type": "error",
     "traceback": [
      "\u001b[1;31m---------------------------------------------------------------------------\u001b[0m",
      "\u001b[1;31mValueError\u001b[0m                                Traceback (most recent call last)",
      "\u001b[1;32m~\\AppData\\Local\\Temp\\ipykernel_9712\\286961375.py\u001b[0m in \u001b[0;36m<module>\u001b[1;34m\u001b[0m\n\u001b[0;32m      1\u001b[0m \u001b[0mstring1\u001b[0m\u001b[1;33m=\u001b[0m\u001b[1;34m'restart how to'\u001b[0m\u001b[1;33m\u001b[0m\u001b[1;33m\u001b[0m\u001b[0m\n\u001b[0;32m      2\u001b[0m \u001b[0mprint\u001b[0m\u001b[1;33m(\u001b[0m\u001b[0mstring1\u001b[0m\u001b[1;33m.\u001b[0m\u001b[0mcount\u001b[0m\u001b[1;33m(\u001b[0m\u001b[1;34m'T'\u001b[0m\u001b[1;33m)\u001b[0m\u001b[1;33m)\u001b[0m  \u001b[1;31m# 0\u001b[0m\u001b[1;33m\u001b[0m\u001b[1;33m\u001b[0m\u001b[0m\n\u001b[1;32m----> 3\u001b[1;33m \u001b[0mprint\u001b[0m\u001b[1;33m(\u001b[0m\u001b[0mstring1\u001b[0m\u001b[1;33m.\u001b[0m\u001b[0mindex\u001b[0m\u001b[1;33m(\u001b[0m\u001b[1;34m'T'\u001b[0m\u001b[1;33m)\u001b[0m\u001b[1;33m)\u001b[0m  \u001b[1;31m# sub string error\u001b[0m\u001b[1;33m\u001b[0m\u001b[1;33m\u001b[0m\u001b[0m\n\u001b[0m\u001b[0;32m      4\u001b[0m \u001b[0mprint\u001b[0m\u001b[1;33m(\u001b[0m\u001b[0mstring1\u001b[0m\u001b[1;33m.\u001b[0m\u001b[0mreplace\u001b[0m\u001b[1;33m(\u001b[0m\u001b[1;34m'TTTT'\u001b[0m\u001b[1;33m,\u001b[0m\u001b[1;34m'&'\u001b[0m\u001b[1;33m)\u001b[0m\u001b[1;33m)\u001b[0m\u001b[1;31m#  NO error\u001b[0m\u001b[1;33m\u001b[0m\u001b[1;33m\u001b[0m\u001b[0m\n",
      "\u001b[1;31mValueError\u001b[0m: substring not found"
     ]
    }
   ],
   "source": [
    "string1='restart how to'\n",
    "print(string1.count('T'))  # 0\n",
    "print(string1.index('T'))  # sub string error\n",
    "print(string1.replace('TTTT','&'))#  NO error"
   ]
  },
  {
   "cell_type": "code",
   "execution_count": 72,
   "id": "c53020b7",
   "metadata": {},
   "outputs": [
    {
     "data": {
      "text/plain": [
       "'Python'"
      ]
     },
     "execution_count": 72,
     "metadata": {},
     "output_type": "execute_result"
    }
   ],
   "source": [
    "'Python'.replace('z','ZZZZZ')  # No error"
   ]
  },
  {
   "cell_type": "markdown",
   "id": "e443e0db",
   "metadata": {},
   "source": [
    "# find\n",
    "Searches the string for a specified value and returns the position of where it was found and -1 otherwise"
   ]
  },
  {
   "cell_type": "code",
   "execution_count": 73,
   "id": "0f3ed75b",
   "metadata": {},
   "outputs": [
    {
     "data": {
      "text/plain": [
       "6"
      ]
     },
     "execution_count": 73,
     "metadata": {},
     "output_type": "execute_result"
    }
   ],
   "source": [
    "string1='restart how to'\n",
    "f_o=string1.find('t')         \n",
    "s_o=string1.find('t',f_o+1)\n",
    "s_o"
   ]
  },
  {
   "cell_type": "code",
   "execution_count": 76,
   "id": "b653f681",
   "metadata": {},
   "outputs": [
    {
     "data": {
      "text/plain": [
       "-1"
      ]
     },
     "execution_count": 76,
     "metadata": {},
     "output_type": "execute_result"
    }
   ],
   "source": [
    "string1='restart how to'\n",
    "string1.find('z')#it will give -1 value"
   ]
  },
  {
   "cell_type": "markdown",
   "id": "42204c04",
   "metadata": {},
   "source": [
    "# split\n",
    "Splits the string at the specified separator, and returns a list\n"
   ]
  },
  {
   "cell_type": "code",
   "execution_count": 77,
   "id": "81bb25ca",
   "metadata": {},
   "outputs": [
    {
     "data": {
      "text/plain": [
       "['hai', 'how', 'are', 'you']"
      ]
     },
     "execution_count": 77,
     "metadata": {},
     "output_type": "execute_result"
    }
   ],
   "source": [
    "string1='hai how are you'\n",
    "string1.split()  # nothing mentioned means it will take the space"
   ]
  },
  {
   "cell_type": "code",
   "execution_count": 78,
   "id": "67d6bc79",
   "metadata": {},
   "outputs": [
    {
     "data": {
      "text/plain": [
       "['hai how', 'are you']"
      ]
     },
     "execution_count": 78,
     "metadata": {},
     "output_type": "execute_result"
    }
   ],
   "source": [
    "string2='hai how,are you'\n",
    "string2.split(',')"
   ]
  },
  {
   "cell_type": "code",
   "execution_count": 80,
   "id": "703e70b1",
   "metadata": {},
   "outputs": [
    {
     "data": {
      "text/plain": [
       "['hii h', 'llo how ar', ' you']"
      ]
     },
     "execution_count": 80,
     "metadata": {},
     "output_type": "execute_result"
    }
   ],
   "source": [
    "string3='hii hello how are you'\n",
    "string3.split('e')"
   ]
  },
  {
   "cell_type": "code",
   "execution_count": 81,
   "id": "8b82685f",
   "metadata": {},
   "outputs": [
    {
     "name": "stdout",
     "output_type": "stream",
     "text": [
      "omkar\n"
     ]
    }
   ],
   "source": [
    "sent1='rashaad.omkar@gmail.com'\n",
    "#extract only omkar\n",
    "sent1.split('@')\n",
    "extract=sent1.split('@')[0].split('.')[1]\n",
    "print(extract)"
   ]
  },
  {
   "cell_type": "code",
   "execution_count": 82,
   "id": "fb6c4113",
   "metadata": {},
   "outputs": [],
   "source": [
    "s3='jujjavarapu.tharun@gmail.com'"
   ]
  },
  {
   "cell_type": "code",
   "execution_count": 92,
   "id": "f9456215",
   "metadata": {},
   "outputs": [],
   "source": [
    "s3.split('@')[0]:s3.split('.')[1]"
   ]
  },
  {
   "cell_type": "code",
   "execution_count": 94,
   "id": "78866e7a",
   "metadata": {},
   "outputs": [
    {
     "data": {
      "text/plain": [
       "'tharun'"
      ]
     },
     "execution_count": 94,
     "metadata": {},
     "output_type": "execute_result"
    }
   ],
   "source": [
    "s3[s3.find('.')+1:s3.find('@')]"
   ]
  },
  {
   "cell_type": "code",
   "execution_count": 95,
   "id": "e7929140",
   "metadata": {},
   "outputs": [
    {
     "data": {
      "text/plain": [
       "'tharun'"
      ]
     },
     "execution_count": 95,
     "metadata": {},
     "output_type": "execute_result"
    }
   ],
   "source": [
    "s3[s3.index('.')+1:s3.index('@')]"
   ]
  },
  {
   "cell_type": "code",
   "execution_count": 96,
   "id": "f80087e2",
   "metadata": {},
   "outputs": [
    {
     "name": "stdout",
     "output_type": "stream",
     "text": [
      "5\n"
     ]
    },
    {
     "data": {
      "text/plain": [
       "'mlr'"
      ]
     },
     "execution_count": 96,
     "metadata": {},
     "output_type": "execute_result"
    }
   ],
   "source": [
    "sent2='mobin.sourav@uma.com' \n",
    "print(sent2.index('.'))#index number only give it\n",
    "sent2='mobin.souravsahoo@narehit.ac.in' \n",
    "sent2='bikas.sourav@mlr.edu.ac.in' \n",
    "sent2[sent2.index('@')+1:sent2.index('.',sent2.index('.')+1)]\n",
    "#it  is index operation start and stop value taken by index method without counting"
   ]
  },
  {
   "cell_type": "markdown",
   "id": "27e0652c",
   "metadata": {},
   "source": [
    "# strip # lstrip # rstrip"
   ]
  },
  {
   "cell_type": "code",
   "execution_count": 97,
   "id": "ada5f2c9",
   "metadata": {},
   "outputs": [],
   "source": [
    "string1=' hai how are you ' # both  strip\n",
    "string2='hai how are you ' # right  strip/rstrip\n",
    "string3=' hai how are you' # left   strip/lstrip"
   ]
  },
  {
   "cell_type": "markdown",
   "id": "becf58d3",
   "metadata": {},
   "source": [
    "if you want remove the spaces we use method strip\n",
    "\n",
    "strip: It will remove spaces both sides\n",
    "\n",
    "lstrip: It will remove left side space\n",
    "\n",
    "rstrip: It will remove right side space"
   ]
  },
  {
   "cell_type": "code",
   "execution_count": 98,
   "id": "26cfad47",
   "metadata": {},
   "outputs": [
    {
     "data": {
      "text/plain": [
       "('hai how are you', 'hai how are you ', ' hai how are you')"
      ]
     },
     "execution_count": 98,
     "metadata": {},
     "output_type": "execute_result"
    }
   ],
   "source": [
    "string1.strip(),string1.lstrip(),string1.rstrip()"
   ]
  },
  {
   "cell_type": "code",
   "execution_count": 99,
   "id": "90d2f8fa",
   "metadata": {},
   "outputs": [
    {
     "name": "stdout",
     "output_type": "stream",
     "text": [
      " hai how are you \n",
      "hai how are you\n",
      "hai how are you \n",
      "hai how are you\n"
     ]
    }
   ],
   "source": [
    "print(string1)\n",
    "print(string2.strip())\n",
    "print(string2.lstrip())\n",
    "print(string2.rstrip())"
   ]
  },
  {
   "cell_type": "code",
   "execution_count": 100,
   "id": "18fce5d0",
   "metadata": {},
   "outputs": [
    {
     "name": "stdout",
     "output_type": "stream",
     "text": [
      "hello\n",
      "hello&&&&&&&&&&&&&&&&&&&\n",
      "&&&&&hello\n"
     ]
    }
   ],
   "source": [
    "string1='&&&&&hello&&&&&&&&&&&&&&&&&&&'\n",
    "print(string1.strip('&'))\n",
    "print(string1.lstrip('&'))\n",
    "print(string1.rstrip('&'))"
   ]
  },
  {
   "cell_type": "markdown",
   "id": "9ac15c30",
   "metadata": {},
   "source": [
    "# startswith-endswith\n",
    "startswith() ---->Returns “True” if a string starts with the given prefix.\n",
    "\n",
    "endswith() ----->Returns true if the string ends with the specified value."
   ]
  },
  {
   "cell_type": "code",
   "execution_count": 101,
   "id": "2df129b1",
   "metadata": {},
   "outputs": [
    {
     "data": {
      "text/plain": [
       "True"
      ]
     },
     "execution_count": 101,
     "metadata": {},
     "output_type": "execute_result"
    }
   ],
   "source": [
    "string1='pasha,hai how are you'\n",
    "string1.startswith('p')"
   ]
  },
  {
   "cell_type": "code",
   "execution_count": 102,
   "id": "7e315850",
   "metadata": {},
   "outputs": [
    {
     "data": {
      "text/plain": [
       "True"
      ]
     },
     "execution_count": 102,
     "metadata": {},
     "output_type": "execute_result"
    }
   ],
   "source": [
    "string1.endswith(' you')"
   ]
  },
  {
   "cell_type": "code",
   "execution_count": 103,
   "id": "2312736b",
   "metadata": {},
   "outputs": [
    {
     "data": {
      "text/plain": [
       "True"
      ]
     },
     "execution_count": 103,
     "metadata": {},
     "output_type": "execute_result"
    }
   ],
   "source": [
    "string1.startswith(string1)"
   ]
  },
  {
   "cell_type": "code",
   "execution_count": 104,
   "id": "42ed63d3",
   "metadata": {},
   "outputs": [
    {
     "data": {
      "text/plain": [
       "False"
      ]
     },
     "execution_count": 104,
     "metadata": {},
     "output_type": "execute_result"
    }
   ],
   "source": [
    "string1.startswith('y')"
   ]
  },
  {
   "cell_type": "code",
   "execution_count": 109,
   "id": "21f21955",
   "metadata": {},
   "outputs": [
    {
     "data": {
      "text/plain": [
       "True"
      ]
     },
     "execution_count": 109,
     "metadata": {},
     "output_type": "execute_result"
    }
   ],
   "source": [
    "string1.endswith(string1)"
   ]
  },
  {
   "cell_type": "code",
   "execution_count": 112,
   "id": "5b98570f",
   "metadata": {},
   "outputs": [
    {
     "data": {
      "text/plain": [
       "False"
      ]
     },
     "execution_count": 112,
     "metadata": {},
     "output_type": "execute_result"
    }
   ],
   "source": [
    "string1.endswith('yu')"
   ]
  },
  {
   "cell_type": "markdown",
   "id": "f428f185",
   "metadata": {},
   "source": [
    "# isaplha\n",
    "Returns “True” if all characters in the string are alphabets and false otherwise."
   ]
  },
  {
   "cell_type": "code",
   "execution_count": 8,
   "id": "f302dd30",
   "metadata": {},
   "outputs": [
    {
     "data": {
      "text/plain": [
       "True"
      ]
     },
     "execution_count": 8,
     "metadata": {},
     "output_type": "execute_result"
    }
   ],
   "source": [
    "string1='python'\n",
    "string1.isalpha()"
   ]
  },
  {
   "cell_type": "markdown",
   "id": "91069914",
   "metadata": {},
   "source": [
    "# isnumeric\n",
    "Returns “True” if all characters in the string are numeric characters and false otherwise."
   ]
  },
  {
   "cell_type": "code",
   "execution_count": 9,
   "id": "df40ea8a",
   "metadata": {},
   "outputs": [
    {
     "data": {
      "text/plain": [
       "True"
      ]
     },
     "execution_count": 9,
     "metadata": {},
     "output_type": "execute_result"
    }
   ],
   "source": [
    "string1='12345'\n",
    "string1.isnumeric()"
   ]
  },
  {
   "cell_type": "markdown",
   "id": "8e924521",
   "metadata": {},
   "source": [
    "# isalnum\n",
    "Checks whether all the characters in a given string is alphanumeric or not."
   ]
  },
  {
   "cell_type": "code",
   "execution_count": 10,
   "id": "869e939e",
   "metadata": {},
   "outputs": [
    {
     "name": "stdout",
     "output_type": "stream",
     "text": [
      "True\n"
     ]
    }
   ],
   "source": [
    "string1='python123'\n",
    "print(string1.isalnum())"
   ]
  },
  {
   "cell_type": "markdown",
   "id": "2935cc12",
   "metadata": {},
   "source": [
    "# islower\n",
    "Checks if all characters in the string are lowercase"
   ]
  },
  {
   "cell_type": "code",
   "execution_count": 11,
   "id": "58c974a3",
   "metadata": {},
   "outputs": [
    {
     "data": {
      "text/plain": [
       "True"
      ]
     },
     "execution_count": 11,
     "metadata": {},
     "output_type": "execute_result"
    }
   ],
   "source": [
    "string4='my name is tharun'\n",
    "string4.islower()"
   ]
  },
  {
   "cell_type": "markdown",
   "id": "8fc74c76",
   "metadata": {},
   "source": [
    "# isupper\n",
    "Checks if all characters in the string are uppercase"
   ]
  },
  {
   "cell_type": "code",
   "execution_count": 13,
   "id": "ad4321a8",
   "metadata": {},
   "outputs": [
    {
     "data": {
      "text/plain": [
       "True"
      ]
     },
     "execution_count": 13,
     "metadata": {},
     "output_type": "execute_result"
    }
   ],
   "source": [
    "string1='PYTHON'\n",
    "string1.isupper()"
   ]
  },
  {
   "cell_type": "markdown",
   "id": "34a84673",
   "metadata": {},
   "source": [
    "# isdigit\n",
    "Returns “True” if all characters in the string are digits"
   ]
  },
  {
   "cell_type": "code",
   "execution_count": 15,
   "id": "89e27631",
   "metadata": {},
   "outputs": [
    {
     "data": {
      "text/plain": [
       "True"
      ]
     },
     "execution_count": 15,
     "metadata": {},
     "output_type": "execute_result"
    }
   ],
   "source": [
    "string1='123456'\n",
    "string1.isdigit()"
   ]
  },
  {
   "cell_type": "markdown",
   "id": "90de00a2",
   "metadata": {},
   "source": [
    "# isdecimal\n",
    "Returns true if all characters in a string are decimal"
   ]
  },
  {
   "cell_type": "code",
   "execution_count": 19,
   "id": "06371a67",
   "metadata": {},
   "outputs": [
    {
     "data": {
      "text/plain": [
       "True"
      ]
     },
     "execution_count": 19,
     "metadata": {},
     "output_type": "execute_result"
    }
   ],
   "source": [
    "string1='124563'\n",
    "string1.isdecimal()"
   ]
  },
  {
   "cell_type": "code",
   "execution_count": null,
   "id": "a7a798d3",
   "metadata": {},
   "outputs": [],
   "source": []
  }
 ],
 "metadata": {
  "kernelspec": {
   "display_name": "Python 3 (ipykernel)",
   "language": "python",
   "name": "python3"
  },
  "language_info": {
   "codemirror_mode": {
    "name": "ipython",
    "version": 3
   },
   "file_extension": ".py",
   "mimetype": "text/x-python",
   "name": "python",
   "nbconvert_exporter": "python",
   "pygments_lexer": "ipython3",
   "version": "3.9.13"
  }
 },
 "nbformat": 4,
 "nbformat_minor": 5
}
